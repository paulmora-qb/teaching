{
 "cells": [
  {
   "cell_type": "markdown",
   "metadata": {},
   "source": [
    "## Code style\n",
    "\n",
    "> Programs must be written for people to read, and only incidentally for machines to execute - Harold Abelson\n",
    "\n",
    "**Code style matters**\n",
    "\n",
    "Poor code style\n",
    "- looks careless (to experienced programmers)\n",
    "- screams \"junior\"\n",
    "- makes your (and your colleagues') job more difficult\n",
    "\n",
    "## Whitespace indentation\n",
    "\n",
    "Python uses indentation (ie whitespace). Other languages (such as Java and C++) use `;` to organize code.\n",
    "\n",
    "Comments are lines beginning with `#`\n",
    "\n",
    "Spaces, not tabs\n",
    "- TAB is a character!\n",
    "- four spaces = one level of indentation\n",
    "\n",
    "## PEP 8\n",
    "\n",
    "PEP = Python Enhancement Proposal\n",
    "\n",
    "[Python style guide - PEP 8](https://www.python.org/dev/peps/pep-0008/)\n",
    "\n",
    "[Code Style - The Hitchhiker’s Guide to Python!](https://docs.python-guide.org/writing/style/)\n",
    "\n",
    "[Chapter 2 of Effective Python - Brett Slatkin](https://effectivepython.com/)\n",
    "\n",
    "Imports at the top of the `.py` file (each section in alphabetical order)\n",
    "- standard library\n",
    "- third party modules\n",
    "- your own modules\n",
    "\n",
    "Limits line length to 79 characters"
   ]
  },
  {
   "cell_type": "markdown",
   "metadata": {},
   "source": [
    "Put one—and only one—space before and after variable assignments:"
   ]
  },
  {
   "cell_type": "code",
   "execution_count": null,
   "metadata": {},
   "outputs": [],
   "source": [
    "#  poorly formatted\n",
    "sample=63\n",
    "\n",
    "#  PEP8\n",
    "sample = 63"
   ]
  },
  {
   "cell_type": "markdown",
   "metadata": {},
   "source": [
    "Don’t put spaces around list indexes:"
   ]
  },
  {
   "cell_type": "code",
   "execution_count": null,
   "metadata": {},
   "outputs": [],
   "source": [
    "#  poorly formatted\n",
    "data=[ 2, 4, 8 ]\n",
    "\n",
    "#  PEP8\n",
    "data = [2, 4, 8]"
   ]
  },
  {
   "cell_type": "markdown",
   "metadata": {},
   "source": [
    "Spaces around positional arguments in functions:"
   ]
  },
  {
   "cell_type": "code",
   "execution_count": null,
   "metadata": {},
   "outputs": [],
   "source": [
    "#  incorrect\n",
    "def f(x,y):\n",
    "    pass\n",
    "\n",
    "#  correct\n",
    "def f(x, y):\n",
    "    pass"
   ]
  },
  {
   "cell_type": "markdown",
   "metadata": {},
   "source": [
    "Don’t put spaces around function calls:"
   ]
  },
  {
   "cell_type": "code",
   "execution_count": null,
   "metadata": {},
   "outputs": [],
   "source": [
    "#  poorly formatted\n",
    "sample = sum( [1,3,3])\n",
    "\n",
    "#  PEP8\n",
    "sample = sum([1, 3, 3])"
   ]
  },
  {
   "cell_type": "markdown",
   "metadata": {},
   "source": [
    "Don’t put spaces around keyword argument assignments:"
   ]
  },
  {
   "cell_type": "code",
   "execution_count": null,
   "metadata": {},
   "outputs": [],
   "source": [
    "#  incorrect\n",
    "def sorted_data(data, reverse = True):\n",
    "    pass\n",
    "\n",
    "#  correct\n",
    "def sorted_data(data, reverse=True):\n",
    "    pass"
   ]
  },
  {
   "cell_type": "markdown",
   "metadata": {},
   "source": [
    "Spaces around operators:"
   ]
  },
  {
   "cell_type": "code",
   "execution_count": null,
   "metadata": {},
   "outputs": [],
   "source": [
    "# not correct\n",
    "a = b+c\n",
    "\n",
    "# good\n",
    "a = b + c "
   ]
  },
  {
   "cell_type": "markdown",
   "metadata": {},
   "source": [
    "Naming styles"
   ]
  },
  {
   "cell_type": "code",
   "execution_count": 1,
   "metadata": {},
   "outputs": [],
   "source": [
    "#  functions & variables\n",
    "variables_are_snake_case = 10\n",
    "\n",
    "def functions_are_too():\n",
    "    pass\n",
    "\n",
    "#  classes\n",
    "class CamelCase():\n",
    "    pass\n",
    "\n",
    "#  intances of classes are lowercase\n",
    "my_camel = CamelCase()"
   ]
  }
 ],
 "metadata": {
  "kernelspec": {
   "display_name": "Python 3 (ipykernel)",
   "language": "python",
   "name": "python3"
  },
  "language_info": {
   "codemirror_mode": {
    "name": "ipython",
    "version": 3
   },
   "file_extension": ".py",
   "mimetype": "text/x-python",
   "name": "python",
   "nbconvert_exporter": "python",
   "pygments_lexer": "ipython3",
   "version": "3.9.6"
  }
 },
 "nbformat": 4,
 "nbformat_minor": 4
}
