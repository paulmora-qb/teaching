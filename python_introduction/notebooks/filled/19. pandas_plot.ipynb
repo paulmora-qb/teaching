{
 "cells": [
  {
   "cell_type": "markdown",
   "metadata": {},
   "source": [
    "# Pandas Plotting Tutorial\n",
    "\n",
    "In this tutorial, we will cover various plotting functionalities provided by Pandas library in Python. We will go through the following topics:\n",
    "\n",
    "1. Creation of Line Plots\n",
    "2. Creation of Bar Plots\n",
    "3. Creation of Multiple Line Plots\n",
    "4. Creation of Stacked Bar Charts\n",
    "5. Creation of Side-by-Side Bar Plots\n",
    "6. Creation of Multiple Plots using plt.subplots\n",
    "\n",
    "Let's get started!\n"
   ]
  },
  {
   "cell_type": "markdown",
   "metadata": {},
   "source": [
    "## Dataset\n",
    "\n",
    "Let's create a sample dataset that we'll use throughout this tutorial.\n",
    "We'll create a DataFrame with some sample data."
   ]
  },
  {
   "cell_type": "code",
   "execution_count": null,
   "metadata": {},
   "outputs": [],
   "source": [
    "# Importing necessary libraries\n",
    "import pandas as pd\n",
    "import matplotlib.pyplot as plt\n",
    "\n",
    "# Creating the sample dataset\n",
    "data = {\n",
    "    'Year': [2010, 2011, 2012, 2013, 2014],\n",
    "    'Sales': [100, 150, 200, 250, 300],\n",
    "    'Expenses': [70, 90, 110, 130, 150],\n",
    "}\n",
    "\n",
    "# Creating DataFrame\n",
    "df = pd.DataFrame(data)\n",
    "\n",
    "# Displaying the dataset\n",
    "df"
   ]
  },
  {
   "cell_type": "markdown",
   "metadata": {},
   "source": [
    "## 1. Creation of Line Plots\n",
    "\n",
    "Line plots are useful for visualizing the trend of a single variable over time.\n",
    "\n",
    "Let's create a line plot for the `Sales` column."
   ]
  },
  {
   "cell_type": "code",
   "execution_count": null,
   "metadata": {},
   "outputs": [],
   "source": [
    "# Creating a line plot for Sales\n",
    "df.plot(x='Year', y='Sales', kind='line', marker='o')\n",
    "plt.title('Sales Over Years')\n",
    "plt.xlabel('Year')\n",
    "plt.ylabel('Sales')\n",
    "plt.grid(True)\n",
    "plt.show()"
   ]
  },
  {
   "cell_type": "markdown",
   "metadata": {},
   "source": [
    "## 2. Creation of Bar Plots\n",
    "\n",
    "Bar plots are useful for comparing categorical data.\n",
    "\n",
    "Let's create a bar plot for the `Expenses` column."
   ]
  },
  {
   "cell_type": "code",
   "execution_count": null,
   "metadata": {},
   "outputs": [],
   "source": [
    "# Creating a bar plot for Expenses\n",
    "df.plot(x='Year', y='Expenses', kind='bar', color='skyblue')\n",
    "plt.title('Expenses Over Years')\n",
    "plt.xlabel('Year')\n",
    "plt.ylabel('Expenses')\n",
    "plt.grid(True)\n",
    "plt.show()"
   ]
  },
  {
   "cell_type": "markdown",
   "metadata": {},
   "source": [
    "## 3. Creation of Multiple Line Plots\n",
    "\n",
    "We can create multiple line plots in the same figure to compare trends of different variables.\n",
    "\n",
    "Let's create line plots for both `Sales` and `Expenses`."
   ]
  },
  {
   "cell_type": "code",
   "execution_count": null,
   "metadata": {},
   "outputs": [],
   "source": [
    "# Creating multiple line plots\n",
    "df.plot(x='Year', y=['Sales', 'Expenses'], kind='line', marker='o')\n",
    "plt.title('Sales and Expenses Over Years')\n",
    "plt.xlabel('Year')\n",
    "plt.ylabel('Amount')\n",
    "plt.grid(True)\n",
    "plt.show()"
   ]
  },
  {
   "cell_type": "markdown",
   "metadata": {},
   "source": [
    "## 4. Creation of Stacked Bar Charts\n",
    "\n",
    "Stacked bar charts are useful for comparing the total and individual contributions of different categories.\n",
    "\n",
    "Let's create a stacked bar chart for `Sales` and `Expenses`."
   ]
  },
  {
   "cell_type": "code",
   "execution_count": null,
   "metadata": {},
   "outputs": [],
   "source": [
    "# Creating a stacked bar chart\n",
    "df.plot(x='Year', kind='bar', stacked=True)\n",
    "plt.title('Stacked Bar Chart of Sales and Expenses')\n",
    "plt.xlabel('Year')\n",
    "plt.ylabel('Amount')\n",
    "plt.grid(True)\n",
    "plt.show()"
   ]
  },
  {
   "cell_type": "markdown",
   "metadata": {},
   "source": [
    "## 5. Creation of Side-by-Side Bar Plots\n",
    "\n",
    "Side-by-side bar plots are useful for comparing two or more categories across different groups.\n",
    "\n",
    "Let's create side-by-side bar plots for `Sales` and `Expenses`."
   ]
  },
  {
   "cell_type": "code",
   "execution_count": null,
   "metadata": {},
   "outputs": [],
   "source": [
    "# Creating side-by-side bar plots\n",
    "df.plot(x='Year', kind='bar', color=['blue', 'orange'])\n",
    "plt.title('Side-by-Side Bar Plot of Sales and Expenses')\n",
    "plt.xlabel('Year')\n",
    "plt.ylabel('Amount')\n",
    "plt.grid(True)\n",
    "plt.show()"
   ]
  },
  {
   "cell_type": "markdown",
   "metadata": {},
   "source": [
    "## 6. Creation of Multiple Plots using plt.subplots\n",
    "\n",
    "We can create multiple plots next to each other using `plt.subplots`.\n",
    "Let's create two plots, one for `Sales` and one for `Expenses`, and display them side by side."
   ]
  },
  {
   "cell_type": "code",
   "execution_count": null,
   "metadata": {},
   "outputs": [],
   "source": [
    "# Creating multiple plots using plt.subplots\n",
    "fig, axes = plt.subplots(1, 2, figsize=(10, 5))\n",
    "\n",
    "# Plotting Sales\n",
    "df.plot(x='Year', y='Sales', ax=axes[0], kind='line', marker='o', color='green')\n",
    "axes[0].set_title('Sales Over Years')\n",
    "axes[0].set_xlabel('Year')\n",
    "axes[0].set_ylabel('Sales')\n",
    "axes[0].grid(True)\n",
    "\n",
    "# Plotting Expenses\n",
    "df.plot(x='Year', y='Expenses', ax=axes[1], kind='bar', color='orange')\n",
    "axes[1].set_title('Expenses Over Years')\n",
    "axes[1].set_xlabel('Year')\n",
    "axes[1].set_ylabel('Expenses')\n",
    "axes[1].grid(True)\n",
    "\n",
    "plt.tight_layout()\n",
    "plt.show()"
   ]
  }
 ],
 "metadata": {
  "kernelspec": {
   "display_name": "Python 3",
   "language": "python",
   "name": "python3"
  },
  "language_info": {
   "codemirror_mode": {
    "name": "ipython",
    "version": 3
   },
   "file_extension": ".py",
   "mimetype": "text/x-python",
   "name": "python",
   "nbconvert_exporter": "python",
   "pygments_lexer": "ipython3",
   "version": "3.7.10"
  }
 },
 "nbformat": 4,
 "nbformat_minor": 5
}
