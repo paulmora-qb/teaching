{
  "cells": [
    {
      "cell_type": "markdown",
      "id": "a1cc6980",
      "metadata": {},
      "source": [
        "# NumPy Tutorial\n",
        "\n",
        "In this tutorial, we will cover various aspects of NumPy, including:\n",
        "\n",
        "1. What is a matrix and how to create one in NumPy\n",
        "2. How does reshaping work in NumPy\n",
        "3. What does the size operator do\n",
        "4. What does the -1 do when it comes to reshaping\n",
        "5. What does flatten do\n",
        "6. How does one index a NumPy matrix two-dimensionally\n",
        "7. How does one aggregate over the different dimensions\n",
        "8. How does one perform matrix multiplication\n",
        "\n",
        "Let's get started!\n"
      ]
    },
    {
      "cell_type": "markdown",
      "id": "83798299",
      "metadata": {},
      "source": [
        "## 1. What is a matrix and how to create one in NumPy\n",
        "\n",
        "A matrix is a two-dimensional array of numbers arranged in rows and columns. We can create a matrix in NumPy using the `np.array()` function.\n",
        "\n",
        "Let's create a sample matrix in NumPy."
      ]
    },
    {
      "cell_type": "code",
      "execution_count": null,
      "id": "78c76ec1",
      "metadata": {},
      "outputs": [],
      "source": [
        "# Importing necessary library\n",
        "import numpy as np\n",
        "\n",
        "# Creating a sample matrix\n",
        "data = np.array([[1, 2, 3],\n",
        "                 [4, 5, 6],\n",
        "                 [7, 8, 9]])\n",
        "\n",
        "# Displaying the matrix\n",
        "print(\"Sample Matrix:\")\n",
        "print(data)"
      ]
    },
    {
      "cell_type": "markdown",
      "id": "68abe0ec",
      "metadata": {},
      "source": [
        "## 2. How does reshaping work in NumPy\n",
        "\n",
        "Reshaping allows us to change the shape (dimensions) of an array. We can reshape an array using the `np.reshape()` function.\n",
        "\n",
        "Let's reshape our sample matrix."
      ]
    },
    {
      "cell_type": "code",
      "execution_count": null,
      "id": "887323b8",
      "metadata": {},
      "outputs": [],
      "source": [
        "# Reshaping the matrix\n",
        "reshaped_data = np.reshape(data, (1, 9))\n",
        "\n",
        "# Displaying the reshaped matrix\n",
        "print(\"Reshaped Matrix:\")\n",
        "print(reshaped_data)"
      ]
    },
    {
      "cell_type": "markdown",
      "id": "96b38eed",
      "metadata": {},
      "source": [
        "## 3. What does the size operator do\n",
        "\n",
        "The size operator returns the number of elements in an array. We can use the `size` attribute of the NumPy array.\n",
        "\n",
        "Let's find the size of our sample matrix."
      ]
    },
    {
      "cell_type": "code",
      "execution_count": null,
      "id": "a0387bcc",
      "metadata": {},
      "outputs": [],
      "source": [
        "# Finding the size of the matrix\n",
        "matrix_size = data.size\n",
        "\n",
        "# Displaying the size of the matrix\n",
        "print(\"Size of the Matrix:\", matrix_size)"
      ]
    },
    {
      "cell_type": "markdown",
      "id": "4f92b98a",
      "metadata": {},
      "source": [
        "## 4. What does the -1 do when it comes to reshaping\n",
        "\n",
        "When we use `-1` in reshaping, NumPy automatically calculates the dimension based on the other specified dimensions. It infers the unknown dimension.\n",
        "\n",
        "Let's reshape our sample matrix using `-1`."
      ]
    },
    {
      "cell_type": "code",
      "execution_count": null,
      "id": "a9a0c38a",
      "metadata": {},
      "outputs": [],
      "source": [
        "# Reshaping the matrix using -1\n",
        "reshaped_data_negative = np.reshape(data, (1, -1))\n",
        "\n",
        "# Displaying the reshaped matrix with -1\n",
        "print(\"Reshaped Matrix with -1:\")\n",
        "print(reshaped_data_negative)"
      ]
    },
    {
      "cell_type": "markdown",
      "id": "7a16a52d",
      "metadata": {},
      "source": [
        "## 5. What does flatten do\n",
        "\n",
        "Flattening converts a multi-dimensional array into a one-dimensional array. We can use the `flatten()` method in NumPy to flatten an array.\n",
        "\n",
        "Let's flatten our sample matrix."
      ]
    },
    {
      "cell_type": "code",
      "execution_count": null,
      "id": "4f637c35",
      "metadata": {},
      "outputs": [],
      "source": [
        "# Flattening the matrix\n",
        "flattened_data = data.flatten()\n",
        "\n",
        "# Displaying the flattened matrix\n",
        "print(\"Flattened Matrix:\")\n",
        "print(flattened_data)"
      ]
    },
    {
      "cell_type": "markdown",
      "id": "ad7df1b1",
      "metadata": {},
      "source": [
        "## 6. How does one index a NumPy matrix two-dimensionally\n",
        "\n",
        "We can index a NumPy matrix using row and column indices. The syntax for two-dimensional indexing is `array[row_index, column_index]`.\n",
        "\n",
        "Let's index our sample matrix two-dimensionally."
      ]
    },
    {
      "cell_type": "code",
      "execution_count": null,
      "id": "300fa662",
      "metadata": {},
      "outputs": [],
      "source": [
        "# Indexing a NumPy matrix two-dimensionally\n",
        "element = data[1, 2]  # Accessing element at row 1, column 2\n",
        "\n",
        "# Displaying the indexed element\n",
        "print(\"Element at index (1, 2):\", element)"
      ]
    },
    {
      "cell_type": "markdown",
      "id": "06485ac2",
      "metadata": {},
      "source": [
        "## 7. How does one aggregate over the different dimensions\n",
        "\n",
        "We can aggregate over different dimensions (e.g., rows, columns) of a NumPy matrix using functions like `np.sum()`, `np.mean()`, `np.max()`, etc.\n",
        "\n",
        "Let's perform aggregation over rows and columns of our sample matrix."
      ]
    },
    {
      "cell_type": "code",
      "execution_count": null,
      "id": "d14b3970",
      "metadata": {},
      "outputs": [],
      "source": [
        "# Aggregating over rows and columns\n",
        "row_sum = np.sum(data, axis=1)  # Sum over rows\n",
        "col_max = np.max(data, axis=0)  # Max over columns\n",
        "\n",
        "# Displaying the aggregated results\n",
        "print(\"Sum over Rows:\", row_sum)\n",
        "print(\"Max over Columns:\", col_max)"
      ]
    },
    {
      "cell_type": "markdown",
      "id": "a32db9d5",
      "metadata": {},
      "source": [
        "## 8. How does one perform matrix multiplication\n",
        "\n",
        "Matrix multiplication can be performed using the `np.dot()` function in NumPy or the `@` operator.\n",
        "\n",
        "Let's perform matrix multiplication with our sample matrix."
      ]
    },
    {
      "cell_type": "code",
      "execution_count": null,
      "id": "84513712",
      "metadata": {},
      "outputs": [],
      "source": [
        "# Creating another sample matrix\n",
        "other_data = np.array([[1, 0],\n",
        "                       [0, 1],\n",
        "                       [1, 1]])\n",
        "\n",
        "# Performing matrix multiplication\n",
        "result = np.dot(data, other_data)\n",
        "\n",
        "# Displaying the result of matrix multiplication\n",
        "print(\"Result of Matrix Multiplication:\")\n",
        "print(result)"
      ]
    }
  ],
  "metadata": {
    "kernelspec": {
      "display_name": "Python 3",
      "language": "python",
      "name": "python3"
    },
    "language_info": {
      "codemirror_mode": {
        "name": "ipython",
        "version": 3
      },
      "file_extension": ".py",
      "mimetype": "text/x-python",
      "name": "python",
      "nbconvert_exporter": "python",
      "pygments_lexer": "ipython3",
      "version": "3.7.10"
    }
  },
  "nbformat": 4,
  "nbformat_minor": 5
}
