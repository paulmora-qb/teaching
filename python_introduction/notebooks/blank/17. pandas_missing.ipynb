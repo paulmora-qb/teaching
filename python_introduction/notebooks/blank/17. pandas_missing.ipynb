{
 "cells": [
  {
   "cell_type": "markdown",
   "id": "11f60c0f",
   "metadata": {},
   "source": [
    "# Pandas Data Manipulation Tutorial\n",
    "\n",
    "In this tutorial, we will cover various aspects of data manipulation in Pandas library of Python. We will go through the following topics:\n",
    "\n",
    "1. What are Missing Values and Why do They Occur?\n",
    "2. How to Find Missing Values\n",
    "3. Shape of Pandas DataFrames\n",
    "4. Missing Values in Time Series Data\n",
    "5. Creating a New Column\n",
    "6. Pandas Profiling\n",
    "\n",
    "Let's get started!\n"
   ]
  },
  {
   "cell_type": "markdown",
   "id": "73b6a1ff",
   "metadata": {},
   "source": [
    "## 1. What are Missing Values and Why do They Occur?\n",
    "\n",
    "Missing values are simply the values that are not present in a dataset. They occur due to various reasons such as data entry errors, equipment malfunctions, or data not being collected.\n",
    "Missing values can cause problems during data analysis and modeling, as they may skew the results or lead to incorrect conclusions.\n"
   ]
  },
  {
   "cell_type": "markdown",
   "id": "4104994e",
   "metadata": {},
   "source": [
    "## 2. How to Find Missing Values\n",
    "\n",
    "Pandas provides methods like `isnull()` and `any()` to find missing values in a DataFrame.\n",
    "\n",
    "Let's demonstrate how to use these commands.\n"
   ]
  },
  {
   "cell_type": "markdown",
   "id": "da09732b",
   "metadata": {},
   "source": [
    "## 3. Shape of Pandas DataFrames\n",
    "\n",
    "The shape of a DataFrame tells us the dimensions of the DataFrame, i.e., the number of rows and columns.\n",
    "\n",
    "We'll show how to get the shape of a DataFrame.\n"
   ]
  },
  {
   "cell_type": "markdown",
   "id": "2363e1e8",
   "metadata": {},
   "source": [
    "## 4. Missing Values in Time Series Data\n",
    "\n",
    "In time series data, missing values can occur due to various reasons such as equipment failure or network issues. \n",
    "We can handle missing values in time series data using methods like forward fill, backward fill, or interpolation.\n",
    "\n",
    "We'll demonstrate these methods with examples.\n"
   ]
  },
  {
   "cell_type": "markdown",
   "id": "d8d0830e",
   "metadata": {},
   "source": [
    "## 5. Creating a New Column\n",
    "\n",
    "We can create a new column in a DataFrame by performing operations on existing columns.\n",
    "Let's illustrate this with an example where we create a new column by taking the sum of two existing columns.\n"
   ]
  },
  {
   "cell_type": "markdown",
   "id": "c6cefc91",
   "metadata": {},
   "source": [
    "## 6. Pandas Profiling\n",
    "\n",
    "Pandas Profiling is a package that generates profile reports from a DataFrame, providing quick insights into the data.\n",
    "It generates a detailed report containing information about the data types, missing values, distributions, correlations, etc.\n",
    "\n",
    "We'll show how to use Pandas Profiling and discuss its benefits.\n"
   ]
  },
  {
   "cell_type": "markdown",
   "id": "f89edc77",
   "metadata": {},
   "source": [
    "## Dataset\n",
    "\n",
    "Let's create a sample dataset that we'll use throughout this tutorial.\n",
    "We'll create a DataFrame with columns `A`, `B`, and `C`."
   ]
  },
  {
   "cell_type": "code",
   "execution_count": null,
   "id": "9dc5e4b6",
   "metadata": {},
   "outputs": [],
   "source": []
  },
  {
   "cell_type": "markdown",
   "id": "201998dd",
   "metadata": {},
   "source": [
    "## 1. What are Missing Values and Why do They Occur?\n",
    "\n",
    "Let's explore the dataset to identify missing values.\n"
   ]
  },
  {
   "cell_type": "code",
   "execution_count": null,
   "id": "3f03757f",
   "metadata": {},
   "outputs": [],
   "source": []
  },
  {
   "cell_type": "code",
   "execution_count": null,
   "id": "1c91b783",
   "metadata": {},
   "outputs": [],
   "source": []
  },
  {
   "cell_type": "markdown",
   "id": "407547e0",
   "metadata": {},
   "source": [
    "## 3. Shape of Pandas DataFrames\n",
    "\n",
    "Let's get the shape of the DataFrame.\n"
   ]
  },
  {
   "cell_type": "code",
   "execution_count": null,
   "id": "d83a363f",
   "metadata": {},
   "outputs": [],
   "source": []
  },
  {
   "cell_type": "markdown",
   "id": "e06e7080",
   "metadata": {},
   "source": [
    "## 4. Missing Values in Time Series Data\n",
    "\n",
    "Let's demonstrate how to handle missing values in time series data using forward fill, backward fill, and interpolation methods.\n"
   ]
  },
  {
   "cell_type": "markdown",
   "id": "dc06de83",
   "metadata": {},
   "source": [
    "## 5. Creating a New Column\n",
    "\n",
    "Let's create a new column `D` by taking the sum of columns `A` and `B`.\n"
   ]
  },
  {
   "cell_type": "code",
   "execution_count": null,
   "id": "042de49a",
   "metadata": {},
   "outputs": [],
   "source": []
  },
  {
   "cell_type": "markdown",
   "id": "e5492fbe",
   "metadata": {},
   "source": [
    "## 6. Pandas Profiling\n",
    "\n",
    "Let's generate a profile report using Pandas Profiling package.\n"
   ]
  },
  {
   "cell_type": "code",
   "execution_count": null,
   "id": "3ccd4089",
   "metadata": {},
   "outputs": [],
   "source": []
  }
 ],
 "metadata": {
  "kernelspec": {
   "display_name": "Python 3",
   "language": "python",
   "name": "python3"
  },
  "language_info": {
   "codemirror_mode": {
    "name": "ipython",
    "version": 3
   },
   "file_extension": ".py",
   "mimetype": "text/x-python",
   "name": "python",
   "nbconvert_exporter": "python",
   "pygments_lexer": "ipython3",
   "version": "3.7.10"
  }
 },
 "nbformat": 4,
 "nbformat_minor": 5
}
