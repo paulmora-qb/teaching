{
 "cells": [
  {
   "cell_type": "markdown",
   "metadata": {},
   "source": [
    "## Exercises\n",
    "\n",
    "Now it is the time to do some exercises."
   ]
  },
  {
   "cell_type": "markdown",
   "metadata": {},
   "source": [
    "## 1. Basic Person Class"
   ]
  },
  {
   "cell_type": "markdown",
   "metadata": {},
   "source": [
    "1. Create a class called `Person` with the attributes `name` and `age`. Make the class take the name and age as input."
   ]
  },
  {
   "cell_type": "code",
   "execution_count": 11,
   "metadata": {},
   "outputs": [],
   "source": [
    "# Exercise 1\n",
    "class Person():\n",
    "    def __init__(self, name, age):\n",
    "        self.name = name\n",
    "        self.age = age"
   ]
  },
  {
   "cell_type": "markdown",
   "metadata": {},
   "source": [
    "2. Create a method called `greet` that prints out the name of the person and the age."
   ]
  },
  {
   "cell_type": "code",
   "execution_count": 12,
   "metadata": {},
   "outputs": [],
   "source": [
    "# Exercise 2\n",
    "class Person():\n",
    "    def __init__(self, name, age):\n",
    "        self.name = name\n",
    "        self.age = age\n",
    "\n",
    "    def greet(self):\n",
    "        return f'Hello, my name is {self.name} and I am {self.age} years old'"
   ]
  },
  {
   "cell_type": "markdown",
   "metadata": {},
   "source": [
    "3. Create a method called `grow` that increases the age of the person by one."
   ]
  },
  {
   "cell_type": "code",
   "execution_count": 13,
   "metadata": {},
   "outputs": [],
   "source": [
    "# Exercise 3\n",
    "class Person():\n",
    "    def __init__(self, name, age):\n",
    "        self.name = name\n",
    "        self.age = age\n",
    "\n",
    "    def greet(self):\n",
    "        return f'Hello, my name is {self.name} and I am {self.age} years old'\n",
    "\n",
    "    def grow_older(self):\n",
    "        self.age += 1"
   ]
  },
  {
   "cell_type": "markdown",
   "metadata": {},
   "source": [
    "## 2. Bank Account Management System\n",
    "\n",
    "Create a Python class called BankAccount that represents a simple bank account. The class should have the following attributes and methods:\n",
    "\n",
    "### Attributes:\n",
    "\n",
    "1. account_number: A unique identifier for each bank account.\n",
    "2. balance: The current balance in the bank account.\n",
    "\n",
    "\n",
    "### Methods:\n",
    "\n",
    "1. *__init__(self, account_number, initial_balance)*: A constructor method that initializes the account_number and balance attributes with the provided values.\n",
    "2. *deposit(self, amount)*: A method that accepts an amount and adds it to the account balance.\n",
    "3. *withdraw(self, amount)*: A method that accepts an amount and subtracts it from the account balance. Ensure that the account has sufficient balance before performing the withdrawal.\n",
    "4. *get_balance(self)*: A method that returns the current balance of the account.\n",
    "\n",
    "**Tasks**:\n",
    "\n",
    "1. Create a BankAccount object with an account number of your choice and an initial balance of $1000.\n",
    "2. Deposit $500 into the account.\n",
    "3. Withdraw $200 from the account.\n",
    "4. Print the current balance of the account."
   ]
  },
  {
   "cell_type": "code",
   "execution_count": 1,
   "metadata": {},
   "outputs": [
    {
     "name": "stdout",
     "output_type": "stream",
     "text": [
      "Deposited $500. New balance: $1500\n",
      "Withdrew $200. New balance: $1300\n",
      "Current balance: 1300\n"
     ]
    }
   ],
   "source": [
    "class BankAccount:\n",
    "    def __init__(self, account_number, initial_balance):\n",
    "        self.account_number = account_number\n",
    "        self.balance = initial_balance\n",
    "\n",
    "    def deposit(self, amount):\n",
    "        self.balance += amount\n",
    "        print(f\"Deposited ${amount}. New balance: ${self.balance}\")\n",
    "\n",
    "    def withdraw(self, amount):\n",
    "        if self.balance >= amount:\n",
    "            self.balance -= amount\n",
    "            print(f\"Withdrew ${amount}. New balance: ${self.balance}\")\n",
    "        else:\n",
    "            print(\"Insufficient funds!\")\n",
    "\n",
    "    def get_balance(self):\n",
    "        return self.balance\n",
    "\n",
    "# Create a BankAccount object\n",
    "account = BankAccount(\"123456789\", 1000)\n",
    "\n",
    "# Deposit $500\n",
    "account.deposit(500)\n",
    "\n",
    "# Withdraw $200\n",
    "account.withdraw(200)\n",
    "\n",
    "# Print current balance\n",
    "print(\"Current balance:\", account.get_balance())"
   ]
  },
  {
   "cell_type": "markdown",
   "metadata": {},
   "source": [
    "## 3. University"
   ]
  },
  {
   "cell_type": "markdown",
   "metadata": {},
   "source": [
    "In this exercise, you will create a Python class hierarchy to model a simplified university system. The objective is to design a set of classes that represent different roles within the university, such as students, professors, and staff members, along with their associated attributes and behaviors.\n",
    "\n",
    "### **Person Class:**\n",
    "This is the base class for all individuals within the university system.\n",
    "\n",
    "#### Attributes:\n",
    "- name: Represents the name of the person.\n",
    "- age: Represents the age of the person.\n",
    "- gender: Represents the gender of the person.\n",
    "\n",
    "#### Methods:\n",
    "- __init__(self, name, age, gender): Initializes the attributes of the person.\n",
    "- get_details(): Prints the details (name, age, gender) of the person.\n",
    "\n",
    "### **Student Class (Inherits from Person)**:\n",
    "Represents a student within the university.\n",
    "\n",
    "#### Attributes:\n",
    "- student_id: Represents the unique identifier for the student.\n",
    "- courses_taken: Represents a list of courses the student is enrolled in.\n",
    "\n",
    "#### Methods:\n",
    "- enroll_course(course): Enrolls the student in a course.\n",
    "- drop_course(course): Drops a course from the student's enrollment.\n",
    "\n",
    "### **Professor Class (Inherits from Person):**\n",
    "Represents a professor within the university.\n",
    "\n",
    "#### Attributes:\n",
    "- employee_id: Represents the unique identifier for the professor.\n",
    "- department: Represents the department to which the professor belongs.\n",
    "\n",
    "#### Methods:\n",
    "- assign_grade(student, course, grade): Assigns a grade to a student for a particular course.\n",
    "- teach_course(course): Indicates that the professor is teaching a specific course.\n",
    "\n",
    "Exercise Tasks:\n",
    "\n",
    "1. Implement the above class hierarchy with appropriate attributes and methods.\n",
    "2. Create objects for a student.\n",
    "3. Create objects for a professor.\n",
    "4. The student should enroll in the subjects mathematics and physics.\n",
    "5. The student should drop the subject physics.\n",
    "6. The professor should assign a grade to the defined in 1. for the mathematics course."
   ]
  },
  {
   "cell_type": "code",
   "execution_count": 4,
   "metadata": {},
   "outputs": [
    {
     "name": "stdout",
     "output_type": "stream",
     "text": [
      "Name: Alice, Age: 20, Gender: Female\n",
      "Alice enrolled in course: Mathematics\n",
      "Alice enrolled in course: Physics\n",
      "Alice dropped course: Physics\n",
      "Name: Dr. Smith, Age: 45, Gender: Male\n",
      "Professor Dr. Smith assigned grade A to Alice for course Mathematics\n",
      "Professor Dr. Smith is teaching course: Computer Networks\n"
     ]
    }
   ],
   "source": [
    "class Person:\n",
    "    def __init__(self, name, age, gender):\n",
    "        self.name = name\n",
    "        self.age = age\n",
    "        self.gender = gender\n",
    "\n",
    "    def get_details(self):\n",
    "        print(f\"Name: {self.name}, Age: {self.age}, Gender: {self.gender}\")\n",
    "\n",
    "\n",
    "class Student(Person):\n",
    "    def __init__(self, name, age, gender, student_id):\n",
    "        super().__init__(name, age, gender)\n",
    "        self.student_id = student_id\n",
    "        self.courses_taken = []\n",
    "\n",
    "    def enroll_course(self, course):\n",
    "        self.courses_taken.append(course)\n",
    "        print(f\"{self.name} enrolled in course: {course}\")\n",
    "\n",
    "    def drop_course(self, course):\n",
    "        if course in self.courses_taken:\n",
    "            self.courses_taken.remove(course)\n",
    "            print(f\"{self.name} dropped course: {course}\")\n",
    "        else:\n",
    "            print(f\"{self.name} is not enrolled in course: {course}\")\n",
    "\n",
    "\n",
    "class Professor(Person):\n",
    "    def __init__(self, name, age, gender, employee_id, department):\n",
    "        super().__init__(name, age, gender)\n",
    "        self.employee_id = employee_id\n",
    "        self.department = department\n",
    "\n",
    "    def assign_grade(self, student, course, grade):\n",
    "        print(f\"Professor {self.name} assigned grade {grade} to {student.name} for course {course}\")\n",
    "\n",
    "    def teach_course(self, course):\n",
    "        print(f\"Professor {self.name} is teaching course: {course}\")\n",
    "\n",
    "\n",
    "# Test the class hierarchy\n",
    "student1 = Student(\"Alice\", 20, \"Female\", \"S001\")\n",
    "professor1 = Professor(\"Dr. Smith\", 45, \"Male\", \"P001\", \"Computer Science\")\n",
    "\n",
    "student1.get_details()\n",
    "student1.enroll_course(\"Mathematics\")\n",
    "student1.enroll_course(\"Physics\")\n",
    "student1.drop_course(\"Physics\")\n",
    "\n",
    "professor1.get_details()\n",
    "professor1.assign_grade(student1, \"Mathematics\", \"A\")\n",
    "professor1.teach_course(\"Computer Networks\")\n"
   ]
  },
  {
   "cell_type": "markdown",
   "metadata": {},
   "source": []
  }
 ],
 "metadata": {
  "kernelspec": {
   "display_name": "base",
   "language": "python",
   "name": "python3"
  },
  "language_info": {
   "codemirror_mode": {
    "name": "ipython",
    "version": 3
   },
   "file_extension": ".py",
   "mimetype": "text/x-python",
   "name": "python",
   "nbconvert_exporter": "python",
   "pygments_lexer": "ipython3",
   "version": "3.11.5"
  }
 },
 "nbformat": 4,
 "nbformat_minor": 2
}
