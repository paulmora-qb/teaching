{
  "cells": [
    {
      "cell_type": "markdown",
      "metadata": {},
      "source": [
        "# Python Functions Tutorial\n",
        "\n",
        "This notebook covers various aspects of Python functions."
      ]
    },
    {
      "cell_type": "markdown",
      "metadata": {},
      "source": [
        "### Example Dataset\n",
        "\n",
        "Let's start by creating an example dataset of names and scores."
      ]
    },
    {
      "cell_type": "code",
      "execution_count": 1,
      "metadata": {},
      "outputs": [],
      "source": [
        "# Import necessary libraries\n",
        "import random\n",
        "\n",
        "# Example dataset\n",
        "names = [\"Alice\", \"Bob\", \"Charlie\", \"David\", \"Emma\"]\n",
        "scores = [random.randint(60, 100) for _ in range(len(names))]\n",
        "\n",
        "# Display the dataset\n",
        "print(\"Names:\", names)\n",
        "print(\"Scores:\", scores)"
      ]
    },
    {
      "cell_type": "markdown",
      "metadata": {},
      "source": [
        "### 1. Why are we using functions? What is the benefit?\n",
        "\n",
        "Functions help in organizing code, making it more readable, reusable, and easier to maintain. They allow us to break down complex tasks into smaller, manageable chunks."
      ]
    },
    {
      "cell_type": "markdown",
      "metadata": {},
      "source": [
        "### 2. Modular Programming\n",
        "\n",
        "Modular programming is a software design technique that emphasizes breaking down programs into independent, interchangeable modules (functions in Python) to promote code reusability and maintainability."
      ]
    },
    {
      "cell_type": "code",
      "execution_count": 2,
      "metadata": {},
      "outputs": [],
      "source": [
        "# Example of modular programming\n",
        "def calculate_average(scores):\n",
        "    \"\"\"\n",
        "    Calculate the average score.\n",
        "    \"\"\"\n",
        "    return sum(scores) / len(scores)\n",
        "\n",
        "average_score = calculate_average(scores)\n",
        "print(\"Average Score:\", average_score)"
      ]
    },
    {
      "cell_type": "markdown",
      "metadata": {},
      "source": [
        "### 3. Difference between Local and Global Scope\n",
        "\n",
        "Local scope refers to variables defined within a function and are only accessible within that function. Global scope refers to variables defined outside of any function and are accessible throughout the code."
      ]
    },
    {
      "cell_type": "markdown",
      "metadata": {},
      "source": [
        "### 4. Parameters and Positional Parameters\n",
        "\n",
        "Parameters are placeholders for values that are passed into a function. Positional parameters are parameters that are passed by their position in the function call. It's important to ensure the correct order of positional parameters when calling a function, otherwise, the function may not behave as expected."
      ]
    },
    {
      "cell_type": "code",
      "execution_count": 3,
      "metadata": {},
      "outputs": [],
      "source": [
        "# Example demonstrating positional parameters\n",
        "def greet(name, message):\n",
        "    \"\"\"\n",
        "    Greets the user with a message.\n",
        "    \"\"\"\n",
        "    print(\"Hello,\", name + \",\", message)\n",
        "\n",
        "# Correct usage\n",
        "greet(\"Alice\", \"how are you?\")\n",
        "# Incorrect usage (wrong order of parameters)\n",
        "greet(\"how are you?\", \"Alice\")"
      ]
    },
    {
      "cell_type": "markdown",
      "metadata": {},
      "source": [
        "### 5. Mistakes leading to Positional Argument Follows Keyword Argument\n",
        "\n",
        "This error occurs when positional arguments are mixed with keyword arguments, and the positional argument follows a keyword argument."
      ]
    },
    {
      "cell_type": "code",
      "execution_count": 4,
      "metadata": {},
      "outputs": [
        {
          "name": "stderr",
          "output_type": "stream",
          "text": [
            "TypeError: greet() got multiple values for argument 'name'\n"
          ]
        }
      ],
      "source": [
        "# Example demonstrating the error\n",
        "# Mistakenly mixing positional and keyword arguments\n",
        "greet(message=\"how are you?\", name=\"Alice\")"
      ]
    },
    {
      "cell_type": "markdown",
      "metadata": {},
      "source": [
        "### 6. Keyword Parameters\n",
        "\n",
        "Keyword parameters allow passing arguments to a function using their corresponding parameter names, which can make function calls more explicit and readable."
      ]
    },
    {
      "cell_type": "code",
      "execution_count": 5,
      "metadata": {},
      "outputs": [],
      "source": [
        "# Example of keyword parameters\n",
        "def greet_with_message(name, message=\"Nice to meet you!\"):\n",
        "    \"\"\"\n",
        "    Greets the user with a message.\n",
        "    If message is not provided, a default message is used.\n",
        "    \"\"\"\n",
        "    print(\"Hello,\", name + \",\", message)\n",
        "\n",
        "# Calling the function with keyword arguments\n",
        "greet_with_message(name=\"Bob\", message=\"How are you?\")\n",
        "# Calling the function without providing the 'message' argument\n",
        "greet_with_message(name=\"Charlie\")"
      ]
    },
    {
      "cell_type": "markdown",
      "metadata": {},
      "source": [
        "### 7. Default Values in Python Functions\n",
        "\n",
        "Default values allow defining parameters with pre-defined values, which are used when the function is called without providing a value for those parameters."
      ]
    },
    {
      "cell_type": "code",
      "execution_count": 6,
      "metadata": {},
      "outputs": [],
      "source": [
        "# Example demonstrating default values\n",
        "def greet_with_default_message(name, message=\"Nice to meet you!\"):\n",
        "    \"\"\"\n",
        "    Greets the user with a message.\n",
        "    If message is not provided, a default message is used.\n",
        "    \"\"\"\n",
        "    print(\"Hello,\", name + \",\", message)\n",
        "\n",
        "# Calling the function without providing the 'message' argument\n",
        "greet_with_default_message(\"David\")"
      ]
    },
    {
      "cell_type": "markdown",
      "metadata": {},
      "source": [
        "### 8. Annotations in Functions\n",
        "\n",
        "Annotations in Python functions provide a way to attach metadata (such as data types) to the parameters and return value of a function. They are not enforced by Python, but they can be useful for documentation and code readability."
      ]
    },
    {
      "cell_type": "code",
      "execution_count": 7,
      "metadata": {},
      "outputs": [],
      "source": [
        "# Example of function annotations\n",
        "def add(x: int, y: int) -> int:\n",
        "    \"\"\"\n",
        "    Adds two integers and returns the result.\n",
        "    \"\"\"\n",
        "    return x + y\n",
        "\n",
        "# Calling the function with annotated parameters\n",
        "result = add(3, 5)\n",
        "print(\"Result:\", result)"
      ]
    }
  ],
  "metadata": {
    "kernelspec": {
      "display_name": "Python 3",
      "language": "python",
      "name": "python3"
    },
    "language_info": {
      "codemirror_mode": {
        "name": "ipython",
        "version": 3
      },
      "file_extension": ".py",
      "mimetype": "text/x-python",
      "name": "python",
      "nbconvert_exporter": "python",
      "pygments_lexer": "ipython3",
      "version": "3.8.5"
    }
  },
  "nbformat": 4,
  "nbformat_minor": 5
}
