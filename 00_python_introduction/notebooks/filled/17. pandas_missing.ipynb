{
 "cells": [
  {
   "cell_type": "markdown",
   "metadata": {},
   "source": [
    "# Pandas Data Manipulation Tutorial\n",
    "\n",
    "In this tutorial, we will cover various aspects of data manipulation in Pandas library of Python. We will go through the following topics:\n",
    "\n",
    "1. What are Missing Values and Why do They Occur?\n",
    "2. How to Find Missing Values\n",
    "3. Shape of Pandas DataFrames\n",
    "4. Missing Values in Time Series Data\n",
    "5. Creating a New Column\n",
    "6. Pandas Profiling\n",
    "\n",
    "Let's get started!\n"
   ]
  },
  {
   "cell_type": "markdown",
   "metadata": {},
   "source": [
    "## 1. What are Missing Values and Why do They Occur?\n",
    "\n",
    "Missing values are simply the values that are not present in a dataset. They occur due to various reasons such as data entry errors, equipment malfunctions, or data not being collected.\n",
    "Missing values can cause problems during data analysis and modeling, as they may skew the results or lead to incorrect conclusions.\n"
   ]
  },
  {
   "cell_type": "markdown",
   "metadata": {},
   "source": [
    "## 2. How to Find Missing Values\n",
    "\n",
    "Pandas provides methods like `isnull()` and `any()` to find missing values in a DataFrame.\n",
    "\n",
    "Let's demonstrate how to use these commands.\n"
   ]
  },
  {
   "cell_type": "markdown",
   "metadata": {},
   "source": [
    "## 3. Shape of Pandas DataFrames\n",
    "\n",
    "The shape of a DataFrame tells us the dimensions of the DataFrame, i.e., the number of rows and columns.\n",
    "\n",
    "We'll show how to get the shape of a DataFrame.\n"
   ]
  },
  {
   "cell_type": "markdown",
   "metadata": {},
   "source": [
    "## 4. Missing Values in Time Series Data\n",
    "\n",
    "In time series data, missing values can occur due to various reasons such as equipment failure or network issues. \n",
    "We can handle missing values in time series data using methods like forward fill, backward fill, or interpolation.\n",
    "\n",
    "We'll demonstrate these methods with examples.\n"
   ]
  },
  {
   "cell_type": "markdown",
   "metadata": {},
   "source": [
    "## 5. Creating a New Column\n",
    "\n",
    "We can create a new column in a DataFrame by performing operations on existing columns.\n",
    "Let's illustrate this with an example where we create a new column by taking the sum of two existing columns.\n"
   ]
  },
  {
   "cell_type": "markdown",
   "metadata": {},
   "source": [
    "## 6. Pandas Profiling\n",
    "\n",
    "Pandas Profiling is a package that generates profile reports from a DataFrame, providing quick insights into the data.\n",
    "It generates a detailed report containing information about the data types, missing values, distributions, correlations, etc.\n",
    "\n",
    "We'll show how to use Pandas Profiling and discuss its benefits.\n"
   ]
  },
  {
   "cell_type": "markdown",
   "metadata": {},
   "source": [
    "## Dataset\n",
    "\n",
    "Let's create a sample dataset that we'll use throughout this tutorial.\n",
    "We'll create a DataFrame with columns `A`, `B`, and `C`."
   ]
  },
  {
   "cell_type": "code",
   "execution_count": null,
   "metadata": {},
   "outputs": [],
   "source": [
    "# Importing necessary libraries\n",
    "import pandas as pd\n",
    "import numpy as np\n",
    "\n",
    "# Creating the sample dataset\n",
    "data = {\n",
    "    'A': [1, 2, np.nan, 4],\n",
    "    'B': [5, np.nan, np.nan, 8],\n",
    "    'C': [np.nan, np.nan, np.nan, np.nan]\n",
    "}\n",
    "\n",
    "# Creating DataFrame\n",
    "df = pd.DataFrame(data)\n",
    "\n",
    "# Displaying the dataset\n",
    "df"
   ]
  },
  {
   "cell_type": "markdown",
   "metadata": {},
   "source": [
    "## 1. What are Missing Values and Why do They Occur?\n",
    "\n",
    "Let's explore the dataset to identify missing values.\n"
   ]
  },
  {
   "cell_type": "code",
   "execution_count": null,
   "metadata": {},
   "outputs": [],
   "source": [
    "# Checking for missing values\n",
    "missing_values = df.isnull()\n",
    "missing_values"
   ]
  },
  {
   "cell_type": "code",
   "execution_count": null,
   "metadata": {},
   "outputs": [],
   "source": [
    "# Checking if any missing values\n",
    "any_missing = df.isnull().any()\n",
    "any_missing"
   ]
  },
  {
   "cell_type": "markdown",
   "metadata": {},
   "source": [
    "## 3. Shape of Pandas DataFrames\n",
    "\n",
    "Let's get the shape of the DataFrame.\n"
   ]
  },
  {
   "cell_type": "code",
   "execution_count": null,
   "metadata": {},
   "outputs": [],
   "source": [
    "# Getting the shape of DataFrame\n",
    "df_shape = df.shape\n",
    "df_shape"
   ]
  },
  {
   "cell_type": "markdown",
   "metadata": {},
   "source": [
    "## 4. Missing Values in Time Series Data\n",
    "\n",
    "Let's demonstrate how to handle missing values in time series data using forward fill, backward fill, and interpolation methods.\n"
   ]
  },
  {
   "cell_type": "markdown",
   "metadata": {},
   "source": [
    "## 5. Creating a New Column\n",
    "\n",
    "Let's create a new column `D` by taking the sum of columns `A` and `B`.\n"
   ]
  },
  {
   "cell_type": "code",
   "execution_count": null,
   "metadata": {},
   "outputs": [],
   "source": [
    "# Creating a new column\n",
    "df['D'] = df['A'] + df['B']\n",
    "\n",
    "# Displaying the updated DataFrame\n",
    "df"
   ]
  },
  {
   "cell_type": "markdown",
   "metadata": {},
   "source": [
    "## 6. Pandas Profiling\n",
    "\n",
    "Let's generate a profile report using Pandas Profiling package.\n"
   ]
  },
  {
   "cell_type": "code",
   "execution_count": null,
   "metadata": {},
   "outputs": [],
   "source": [
    "# Installing pandas-profiling package\n",
    "!pip install pandas-profiling\n",
    "\n",
    "# Importing pandas_profiling\n",
    "from pandas_profiling import ProfileReport\n",
    "\n",
    "# Generating profile report\n",
    "profile = ProfileReport(df)\n",
    "profile.to_file('profile_report.html')\n",
    "profile"
   ]
  }
 ],
 "metadata": {
  "kernelspec": {
   "display_name": "Python 3",
   "language": "python",
   "name": "python3"
  },
  "language_info": {
   "codemirror_mode": {
    "name": "ipython",
    "version": 3
   },
   "file_extension": ".py",
   "mimetype": "text/x-python",
   "name": "python",
   "nbconvert_exporter": "python",
   "pygments_lexer": "ipython3",
   "version": "3.7.10"
  }
 },
 "nbformat": 4,
 "nbformat_minor": 5
}
