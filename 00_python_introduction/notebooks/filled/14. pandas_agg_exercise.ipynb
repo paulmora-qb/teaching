{
 "cells": [
  {
   "cell_type": "markdown",
   "metadata": {},
   "source": [
    "# Exercise\n",
    "\n",
    "What follows are several exercises regarding aggregation and grouping in pandas.\n",
    "\n",
    "In this exercise, you will work with a fictional dataset containing sales data for a retail store. The dataset is provided in CSV format and consists of the following columns:\n",
    "\n",
    "1. Employee_ID: Unique identifier for each employee (Integer).\n",
    "2. Department: Department where the employee works (Categorical - String).\n",
    "3. Gender: Gender of the employee (Categorical - String).\n",
    "4. Age: Age of the employee (Integer).\n",
    "5. Years_of_Experience: Number of years of experience of the employee (Integer).\n",
    "6. Performance_Rating: Performance rating of the employee (Float, scale of 1 to 5).\n",
    "Your task is to use pandas to perform various data analysis tasks and derive insights from the dataset."
   ]
  },
  {
   "cell_type": "code",
   "execution_count": 2,
   "metadata": {},
   "outputs": [],
   "source": [
    "import pandas as pd\n",
    "\n",
    "# Create a fictional dataset\n",
    "data = {\n",
    "    'Employee_ID': [101, 102, 103, 104, 105, 106, 107, 108, 109, 110],\n",
    "    'Department': ['HR', 'IT', 'Marketing', 'Finance', 'HR', 'IT', 'Marketing', 'Finance', 'HR', 'IT'],\n",
    "    'Gender': ['Male', 'Female', 'Male', 'Female', 'Male', 'Female', 'Male', 'Female', 'Male', 'Female'],\n",
    "    'Age': [35, 28, 42, 39, 45, 32, 37, 41, 29, 36],\n",
    "    'Years_of_Experience': [10, 5, 15, 12, 20, 8, 13, 18, 6, 11],\n",
    "    'Performance_Rating': [4.5, 3.8, 4.9, 4.2, 4.7, 4.0, 4.8, 4.3, 3.9, 4.6]\n",
    "}\n",
    "\n",
    "# Convert the dictionary to a DataFrame\n",
    "df = pd.DataFrame(data)\n"
   ]
  },
  {
   "cell_type": "markdown",
   "metadata": {},
   "source": [
    "### 1. Calculate Average Performance Rating by Department and Gender:\n",
    "- Group the data by Department and Gender.\n",
    "- Calculate the average Performance_Rating for each group."
   ]
  },
  {
   "cell_type": "code",
   "execution_count": 3,
   "metadata": {},
   "outputs": [
    {
     "name": "stdout",
     "output_type": "stream",
     "text": [
      "Average performance rating by department and gender:\n",
      "Department  Gender\n",
      "Finance     Female    4.250000\n",
      "HR          Male      4.366667\n",
      "IT          Female    4.133333\n",
      "Marketing   Male      4.850000\n",
      "Name: Performance_Rating, dtype: float64\n"
     ]
    }
   ],
   "source": [
    "# Calculate average performance rating by department and gender\n",
    "avg_rating_dept_gender = df.groupby(['Department', 'Gender'])['Performance_Rating'].mean()\n",
    "\n",
    "# Display the result\n",
    "print(\"Average performance rating by department and gender:\")\n",
    "print(avg_rating_dept_gender)"
   ]
  },
  {
   "cell_type": "markdown",
   "metadata": {},
   "source": [
    "### 2. Identify Top Performer in Each Department:\n",
    "- For each department, identify the employee with the highest Performance_Rating.\n",
    "- Display the employee's Employee_ID, Department, and Performance_Rating."
   ]
  },
  {
   "cell_type": "code",
   "execution_count": 4,
   "metadata": {},
   "outputs": [
    {
     "name": "stdout",
     "output_type": "stream",
     "text": [
      "\n",
      "Top performer in each department:\n",
      "   Employee_ID Department  Performance_Rating\n",
      "7          108    Finance                 4.3\n",
      "4          105         HR                 4.7\n",
      "9          110         IT                 4.6\n",
      "2          103  Marketing                 4.9\n"
     ]
    }
   ],
   "source": [
    "# Identify top performer in each department\n",
    "top_performer_dept = df.loc[df.groupby('Department')['Performance_Rating'].idxmax()]\n",
    "\n",
    "# Display the result\n",
    "print(\"\\nTop performer in each department:\")\n",
    "print(top_performer_dept[['Employee_ID', 'Department', 'Performance_Rating']])"
   ]
  },
  {
   "cell_type": "markdown",
   "metadata": {},
   "source": [
    "### 3. Calculate Age Range Statistics by Department:\n",
    "- Group the data by Department.\n",
    "- Calculate the minimum, maximum, and average Age for each department."
   ]
  },
  {
   "cell_type": "code",
   "execution_count": 5,
   "metadata": {},
   "outputs": [
    {
     "name": "stdout",
     "output_type": "stream",
     "text": [
      "\n",
      "Age range statistics by department:\n",
      "            min  max       mean\n",
      "Department                     \n",
      "Finance      39   41  40.000000\n",
      "HR           29   45  36.333333\n",
      "IT           28   36  32.000000\n",
      "Marketing    37   42  39.500000\n"
     ]
    }
   ],
   "source": [
    "# Calculate age range statistics by department\n",
    "age_stats_dept = df.groupby('Department')['Age'].agg(['min', 'max', 'mean'])\n",
    "\n",
    "# Display the result\n",
    "print(\"\\nAge range statistics by department:\")\n",
    "print(age_stats_dept)"
   ]
  },
  {
   "cell_type": "markdown",
   "metadata": {},
   "source": [
    "### 4. Identify Employees with Below Average Performance Rating:\n",
    "- Calculate the overall average Performance_Rating across all employees.\n",
    "- Identify employees whose Performance_Rating is below the overall average.\n",
    "- Display the Employee_ID, Performance_Rating, and Department of these employees."
   ]
  },
  {
   "cell_type": "code",
   "execution_count": 6,
   "metadata": {},
   "outputs": [
    {
     "name": "stdout",
     "output_type": "stream",
     "text": [
      "\n",
      "Employees with below average performance rating:\n",
      "   Employee_ID  Performance_Rating Department\n",
      "1          102                 3.8         IT\n",
      "3          104                 4.2    Finance\n",
      "5          106                 4.0         IT\n",
      "7          108                 4.3    Finance\n",
      "8          109                 3.9         HR\n"
     ]
    }
   ],
   "source": [
    "# Calculate overall average performance rating\n",
    "overall_avg_rating = df['Performance_Rating'].mean()\n",
    "\n",
    "# Identify employees with below average performance rating\n",
    "below_avg_rating_employees = df[df['Performance_Rating'] < overall_avg_rating]\n",
    "\n",
    "# Display the result\n",
    "print(\"\\nEmployees with below average performance rating:\")\n",
    "print(below_avg_rating_employees[['Employee_ID', 'Performance_Rating', 'Department']])"
   ]
  },
  {
   "cell_type": "markdown",
   "metadata": {},
   "source": [
    "### 5. Calculate Age Group Distribution by Gender:\n",
    "- Create age groups for employees (e.g., 20-29, 30-39, 40-49, etc.).\n",
    "- Group the data by Gender and age groups.\n",
    "- Calculate the count of employees in each gender-age group."
   ]
  },
  {
   "cell_type": "code",
   "execution_count": 7,
   "metadata": {},
   "outputs": [
    {
     "name": "stdout",
     "output_type": "stream",
     "text": [
      "\n",
      "Age group distribution by gender:\n",
      "Gender  Age_Group\n",
      "Female  20-29        1\n",
      "        30-39        3\n",
      "        40-49        1\n",
      "        50-59        0\n",
      "Male    20-29        1\n",
      "        30-39        2\n",
      "        40-49        2\n",
      "        50-59        0\n",
      "dtype: int64\n"
     ]
    }
   ],
   "source": [
    "# Define age groups\n",
    "bins = [20, 30, 40, 50, 60]\n",
    "labels = ['20-29', '30-39', '40-49', '50-59']\n",
    "df['Age_Group'] = pd.cut(df['Age'], bins=bins, labels=labels, right=False)\n",
    "\n",
    "# Calculate age group distribution by gender\n",
    "age_group_distribution = df.groupby(['Gender', 'Age_Group']).size()\n",
    "\n",
    "# Display the result\n",
    "print(\"\\nAge group distribution by gender:\")\n",
    "print(age_group_distribution)\n"
   ]
  }
 ],
 "metadata": {
  "kernelspec": {
   "display_name": "Python 3 (ipykernel)",
   "language": "python",
   "name": "python3"
  },
  "language_info": {
   "codemirror_mode": {
    "name": "ipython",
    "version": 3
   },
   "file_extension": ".py",
   "mimetype": "text/x-python",
   "name": "python",
   "nbconvert_exporter": "python",
   "pygments_lexer": "ipython3",
   "version": "3.11.5"
  }
 },
 "nbformat": 4,
 "nbformat_minor": 4
}
