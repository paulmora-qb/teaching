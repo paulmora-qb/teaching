{
 "cells": [
  {
   "cell_type": "markdown",
   "metadata": {},
   "source": [
    "# Exercise\n",
    "\n",
    "What follows are several exercises regarding aggregation and grouping in pandas.\n",
    "\n",
    "In this exercise, you will work with a fictional dataset containing sales data for a retail store. The dataset is provided in CSV format and consists of the following columns:\n",
    "\n",
    "1. Employee_ID: Unique identifier for each employee (Integer).\n",
    "2. Department: Department where the employee works (Categorical - String).\n",
    "3. Gender: Gender of the employee (Categorical - String).\n",
    "4. Age: Age of the employee (Integer).\n",
    "5. Years_of_Experience: Number of years of experience of the employee (Integer).\n",
    "6. Performance_Rating: Performance rating of the employee (Float, scale of 1 to 5).\n",
    "Your task is to use pandas to perform various data analysis tasks and derive insights from the dataset."
   ]
  },
  {
   "cell_type": "code",
   "execution_count": 4,
   "metadata": {},
   "outputs": [],
   "source": [
    "import pandas as pd\n",
    "\n",
    "# Create the first dataset\n",
    "data1 = {\n",
    "    'ID': [1, 2, 3],\n",
    "    'Name': ['Alice', 'Bob', 'Charlie'],\n",
    "    'Age': [25, 30, 35]\n",
    "}\n",
    "df1 = pd.DataFrame(data1)\n",
    "\n",
    "# Create the second dataset\n",
    "data2 = {\n",
    "    'ID': [4, 5, 6],\n",
    "    'Name': ['David', 'Eva', 'Frank'],\n",
    "    'Age': [40, 45, 50]\n",
    "}\n",
    "df2 = pd.DataFrame(data2)\n",
    "\n",
    "data3 = {\n",
    "    'Salary': [50000, 60000, 70000],\n",
    "    'Position': ['Manager', 'Developer', 'Analyst']\n",
    "}\n",
    "df3 = pd.DataFrame(data3)"
   ]
  },
  {
   "cell_type": "markdown",
   "metadata": {},
   "source": [
    "### 1. Concatenate Two Datasets Vertically\n",
    "\n",
    "- Concatenate df1 and df2 vertically (along rows) to create a single DataFrame.\n",
    "- Ensure the resulting DataFrame has unique index values.\n",
    "- Display the concatenated DataFrame."
   ]
  },
  {
   "cell_type": "code",
   "execution_count": 2,
   "metadata": {},
   "outputs": [
    {
     "name": "stdout",
     "output_type": "stream",
     "text": [
      "Concatenated DataFrame (vertically):\n",
      "   ID     Name  Age\n",
      "0   1    Alice   25\n",
      "1   2      Bob   30\n",
      "2   3  Charlie   35\n",
      "3   4    David   40\n",
      "4   5      Eva   45\n",
      "5   6    Frank   50\n"
     ]
    }
   ],
   "source": [
    "# Exercise 1 Solution\n",
    "concatenated_df = pd.concat([df1, df2], ignore_index=True)\n",
    "print(\"Concatenated DataFrame (vertically):\")\n",
    "print(concatenated_df)"
   ]
  },
  {
   "cell_type": "markdown",
   "metadata": {},
   "source": [
    "### 2. Concatenate Two Datasets Horizontally\n",
    "\n",
    "- Concatenate df1 and df2 horizontally (along columns) to create a single DataFrame.\n",
    "- Ensure the resulting DataFrame has unique index values.\n",
    "- Display the concatenated DataFrame."
   ]
  },
  {
   "cell_type": "code",
   "execution_count": 3,
   "metadata": {},
   "outputs": [
    {
     "name": "stdout",
     "output_type": "stream",
     "text": [
      "\n",
      "Concatenated DataFrame (horizontally):\n",
      "   ID     Name  Age  ID   Name  Age\n",
      "0   1    Alice   25   4  David   40\n",
      "1   2      Bob   30   5    Eva   45\n",
      "2   3  Charlie   35   6  Frank   50\n"
     ]
    }
   ],
   "source": [
    "concatenated_df = pd.concat([df1, df2], axis=1)\n",
    "print(\"\\nConcatenated DataFrame (horizontally):\")\n",
    "print(concatenated_df)"
   ]
  },
  {
   "cell_type": "markdown",
   "metadata": {},
   "source": [
    "### 3. Concatenate Two Datasets with Different Columns\n",
    "\n",
    "- Create a new DataFrame df3 with additional columns.\n",
    "- Concatenate df1 and df3 horizontally.\n",
    "- Fill missing values in the resulting DataFrame with appropriate values.\n",
    "- Display the concatenated DataFrame."
   ]
  },
  {
   "cell_type": "code",
   "execution_count": 8,
   "metadata": {},
   "outputs": [
    {
     "name": "stdout",
     "output_type": "stream",
     "text": [
      "\n",
      "Concatenated DataFrame (with different columns):\n",
      "   ID     Name  Age  Salary   Position\n",
      "0   1    Alice   25   50000    Manager\n",
      "1   2      Bob   30   60000  Developer\n",
      "2   3  Charlie   35   70000    Analyst\n"
     ]
    }
   ],
   "source": [
    "concatenated_df = pd.concat([df1, df3], axis=1)\n",
    "print(\"\\nConcatenated DataFrame (with different columns):\")\n",
    "print(concatenated_df)"
   ]
  }
 ],
 "metadata": {
  "kernelspec": {
   "display_name": "Python 3 (ipykernel)",
   "language": "python",
   "name": "python3"
  },
  "language_info": {
   "codemirror_mode": {
    "name": "ipython",
    "version": 3
   },
   "file_extension": ".py",
   "mimetype": "text/x-python",
   "name": "python",
   "nbconvert_exporter": "python",
   "pygments_lexer": "ipython3",
   "version": "3.11.5"
  }
 },
 "nbformat": 4,
 "nbformat_minor": 4
}
