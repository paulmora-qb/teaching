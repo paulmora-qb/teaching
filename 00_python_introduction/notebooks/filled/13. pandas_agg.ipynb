{
 "cells": [
  {
   "cell_type": "markdown",
   "metadata": {},
   "source": [
    "# Pandas Aggregation Tutorial\n",
    "\n",
    "In this tutorial, we will cover various aspects of data aggregation in Pandas library of Python. We will go through the following topics:\n",
    "\n",
    "1. Creating a Sample Dataset\n",
    "2. Mean, Median, Max, Sum\n",
    "3. Conditional Selection of Columns\n",
    "4. Getting the Number of Unique Values\n",
    "5. Boolean Masks for Selection\n",
    "6. Groupby Commands\n",
    "\n",
    "Let's get started!\n"
   ]
  },
  {
   "cell_type": "markdown",
   "metadata": {},
   "source": [
    "## 1. Creating a Sample Dataset\n",
    "\n",
    "First, let's create a sample dataset that we'll use throughout this tutorial.\n",
    "We'll create a DataFrame with columns `Name`, `Age`, `Salary`, and `Department`.\n",
    "Then, we'll display the dataset."
   ]
  },
  {
   "cell_type": "code",
   "execution_count": null,
   "metadata": {},
   "outputs": [],
   "source": [
    "# Importing necessary libraries\n",
    "import pandas as pd\n",
    "\n",
    "# Creating the sample dataset\n",
    "data = {\n",
    "    'Name': ['Alice', 'Bob', 'Charlie', 'Alice', 'Bob', 'Charlie'],\n",
    "    'Age': [25, 30, 35, 25, 30, 35],\n",
    "    'Salary': [50000, 60000, 70000, 55000, 65000, 75000],\n",
    "    'Department': ['HR', 'Finance', 'IT', 'HR', 'Finance', 'IT']\n",
    "}\n",
    "\n",
    "# Creating DataFrame\n",
    "df = pd.DataFrame(data)\n",
    "\n",
    "# Displaying the dataset\n",
    "df"
   ]
  },
  {
   "cell_type": "markdown",
   "metadata": {},
   "source": [
    "## 2. Mean, Median, Max, Sum\n",
    "\n",
    "Let's calculate the mean, median, max, and sum of the `Salary` column."
   ]
  },
  {
   "cell_type": "code",
   "execution_count": null,
   "metadata": {},
   "outputs": [],
   "source": [
    "# Calculating mean, median, max, and sum of Salary column\n",
    "mean_salary = df['Salary'].mean()\n",
    "median_age = df['Age'].median()\n",
    "max_salary = df['Salary'].max()\n",
    "sum_salaries = df['Salary'].sum()\n",
    "\n",
    "# Displaying the results\n",
    "mean_salary, median_age, max_salary, sum_salaries"
   ]
  },
  {
   "cell_type": "markdown",
   "metadata": {},
   "source": [
    "## 3. Conditional Selection of Columns\n",
    "\n",
    "We can select rows based on certain conditions. Let's select people with salary greater than 60000."
   ]
  },
  {
   "cell_type": "code",
   "execution_count": null,
   "metadata": {},
   "outputs": [],
   "source": [
    "# Selecting people with salary greater than 60000\n",
    "high_salary_df = df[df['Salary'] > 60000]\n",
    "\n",
    "# Displaying the resulting DataFrame\n",
    "high_salary_df"
   ]
  },
  {
   "cell_type": "markdown",
   "metadata": {},
   "source": [
    "## 4. Getting the Number of Unique Values\n",
    "\n",
    "We can get the number of unique values in a column. Let's find the number of unique names."
   ]
  },
  {
   "cell_type": "code",
   "execution_count": null,
   "metadata": {},
   "outputs": [],
   "source": [
    "# Getting the number of unique names\n",
    "unique_names_count = df['Name'].nunique()\n",
    "\n",
    "# Displaying the result\n",
    "unique_names_count"
   ]
  },
  {
   "cell_type": "markdown",
   "metadata": {},
   "source": [
    "## 5. Boolean Masks for Selection\n",
    "\n",
    "We can use boolean masks to select rows based on conditions. Let's select people with age greater than 30."
   ]
  },
  {
   "cell_type": "code",
   "execution_count": null,
   "metadata": {},
   "outputs": [],
   "source": [
    "# Selecting people with age greater than 30\n",
    "mask = df['Age'] > 30\n",
    "older_people_df = df[mask]\n",
    "\n",
    "# Displaying the resulting DataFrame\n",
    "older_people_df"
   ]
  },
  {
   "cell_type": "markdown",
   "metadata": {},
   "source": [
    "## 6. Groupby Commands\n",
    "\n",
    "We can group data based on certain criteria using the `groupby` function. Let's group by `Department` and calculate the mean salary for each department."
   ]
  },
  {
   "cell_type": "code",
   "execution_count": null,
   "metadata": {},
   "outputs": [],
   "source": [
    "# Grouping by Department and calculating mean salary\n",
    "department_salary_mean = df.groupby('Department')['Salary'].mean()\n",
    "\n",
    "# Displaying the result\n",
    "department_salary_mean"
   ]
  }
 ],
 "metadata": {
  "kernelspec": {
   "display_name": "Python 3",
   "language": "python",
   "name": "python3"
  },
  "language_info": {
   "codemirror_mode": {
    "name": "ipython",
    "version": 3
   },
   "file_extension": ".py",
   "mimetype": "text/x-python",
   "name": "python",
   "nbconvert_exporter": "python",
   "pygments_lexer": "ipython3",
   "version": "3.7.10"
  }
 },
 "nbformat": 4,
 "nbformat_minor": 5
}
