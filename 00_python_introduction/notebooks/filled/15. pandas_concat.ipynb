{
  "cells": [
    {
      "cell_type": "markdown",
      "metadata": {},
      "source": [
        "# Pandas Concatenation and Merging Tutorial\n",
        "\n",
        "In this tutorial, we will cover various aspects of concatenating and merging dataframes in Pandas library of Python. We will go through the following topics:\n",
        "\n",
        "1. What is Inner Join, Outer Join, Left Join, Right Join?\n",
        "2. Pandas Merge Command\n",
        "3. Suffixes Attribute within Merge Command\n",
        "4. Concatenation of DataFrames\n",
        "5. Verifying Integrity\n",
        "\n",
        "Let's get started!\n"
      ]
    },
    {
      "cell_type": "markdown",
      "metadata": {},
      "source": [
        "## 1. What is Inner Join, Outer Join, Left Join, Right Join?\n",
        "\n",
        "In database terminology, different types of joins are used to combine data from two or more tables based on a related column between them.\n",
        "\n",
        "- **Inner Join**: Returns only the rows where there is a match in both tables.\n",
        "- **Outer Join (Full Outer Join)**: Returns all rows when there is a match in either table.\n",
        "- **Left Join**: Returns all rows from the left table, and the matched rows from the right table. Returns NaN for rows where there is no match.\n",
        "- **Right Join**: Returns all rows from the right table, and the matched rows from the left table. Returns NaN for rows where there is no match.\n",
        "\n",
        "We will illustrate these with examples.\n"
      ]
    },
    {
      "cell_type": "markdown",
      "metadata": {},
      "source": [
        "## 2. Pandas Merge Command\n",
        "\n",
        "Pandas provides a `merge()` function to perform database-style joins on DataFrame objects.\n",
        "Syntax: `pd.merge(left, right, how='inner', on=None, left_on=None, right_on=None, left_index=False, right_index=False, suffixes=('_x', '_y'), validate=None)`\n",
        "\n",
        "We'll demonstrate the usage of this command with examples.\n"
      ]
    },
    {
      "cell_type": "markdown",
      "metadata": {},
      "source": [
        "## 3. Suffixes Attribute within Merge Command\n",
        "\n",
        "The `suffixes` attribute allows us to specify custom suffixes to use for overlapping column names when columns are not merge keys.\n",
        "This helps to distinguish columns with the same name in the resulting DataFrame.\n",
        "\n",
        "We'll see how to use this attribute with examples.\n"
      ]
    },
    {
      "cell_type": "markdown",
      "metadata": {},
      "source": [
        "## 4. Concatenation of DataFrames\n",
        "\n",
        "Concatenation is the process of combining two or more dataframes either along rows (vertically) or columns (horizontally).\n",
        "\n",
        "We'll illustrate both types of concatenation with examples.\n"
      ]
    },
    {
      "cell_type": "markdown",
      "metadata": {},
      "source": [
        "## 5. Verifying Integrity\n",
        "\n",
        "Pandas provides some methods to verify the integrity of data after performing concatenation or merging.\n",
        "We'll see how to do this with examples.\n"
      ]
    },
    {
      "cell_type": "markdown",
      "metadata": {},
      "source": [
        "## Dataset\n",
        "\n",
        "Let's create a sample dataset that we'll use throughout this tutorial.\n",
        "We'll create two dataframes `df1` and `df2`."
      ]
    },
    {
      "cell_type": "code",
      "execution_count": null,
      "metadata": {},
      "outputs": [],
      "source": [
        "# Importing necessary libraries\n",
        "import pandas as pd\n",
        "\n",
        "# Creating the sample datasets\n",
        "data1 = {\n",
        "    'ID': [1, 2, 3, 4],\n",
        "    'Name': ['Alice', 'Bob', 'Charlie', 'David']\n",
        "}\n",
        "data2 = {\n",
        "    'ID': [3, 4, 5, 6],\n",
        "    'Age': [25, 30, 35, 40]\n",
        "}\n",
        "\n",
        "# Creating DataFrames\n",
        "df1 = pd.DataFrame(data1)\n",
        "df2 = pd.DataFrame(data2)\n",
        "\n",
        "# Displaying the datasets\n",
        "df1, df2"
      ]
    },
    {
      "cell_type": "markdown",
      "metadata": {},
      "source": [
        "## 1. What is Inner Join, Outer Join, Left Join, Right Join?\n",
        "\n",
        "Let's illustrate each type of join using the datasets `df1` and `df2`.\n"
      ]
    },
    {
      "cell_type": "code",
      "execution_count": null,
      "metadata": {},
      "outputs": [],
      "source": [
        "# Inner Join\n",
        "inner_join = pd.merge(df1, df2, on='ID', how='inner')\n",
        "inner_join"
      ]
    },
    {
      "cell_type": "code",
      "execution_count": null,
      "metadata": {},
      "outputs": [],
      "source": [
        "# Outer Join\n",
        "outer_join = pd.merge(df1, df2, on='ID', how='outer')\n",
        "outer_join"
      ]
    },
    {
      "cell_type": "code",
      "execution_count": null,
      "metadata": {},
      "outputs": [],
      "source": [
        "# Left Join\n",
        "left_join = pd.merge(df1, df2, on='ID', how='left')\n",
        "left_join"
      ]
    },
    {
      "cell_type": "code",
      "execution_count": null,
      "metadata": {},
      "outputs": [],
      "source": [
        "# Right Join\n",
        "right_join = pd.merge(df1, df2, on='ID', how='right')\n",
        "right_join"
      ]
    },
    {
      "cell_type": "markdown",
      "metadata": {},
      "source": [
        "## 2. Pandas Merge Command\n",
        "\n",
        "Let's demonstrate the usage of the merge command with examples.\n"
      ]
    },
    {
      "cell_type": "code",
      "execution_count": null,
      "metadata": {},
      "outputs": [],
      "source": [
        "# Merging with different columns\n",
        "merged_df = pd.merge(df1, df2, left_on='Name', right_on='Age', how='inner')\n",
        "merged_df"
      ]
    },
    {
      "cell_type": "markdown",
      "metadata": {},
      "source": [
        "## 3. Suffixes Attribute within Merge Command\n",
        "\n",
        "Let's see how to use the `suffixes` attribute with examples.\n"
      ]
    },
    {
      "cell_type": "code",
      "execution_count": null,
      "metadata": {},
      "outputs": [],
      "source": [
        "# Merging with custom suffixes\n",
        "custom_suffix_merge = pd.merge(df1, df2, on='ID', how='inner', suffixes=('_left', '_right'))\n",
        "custom_suffix_merge"
      ]
    },
    {
      "cell_type": "markdown",
      "metadata": {},
      "source": [
        "## 4. Concatenation of DataFrames\n",
        "\n",
        "Let's illustrate concatenation of dataframes, both vertically and horizontally.\n"
      ]
    },
    {
      "cell_type": "code",
      "execution_count": null,
      "metadata": {},
      "outputs": [],
      "source": [
        "# Vertical Concatenation\n",
        "concatenated_vertical = pd.concat([df1, df2], ignore_index=True)\n",
        "concatenated_vertical"
      ]
    },
    {
      "cell_type": "code",
      "execution_count": null,
      "metadata": {},
      "outputs": [],
      "source": [
        "# Horizontal Concatenation\n",
        "concatenated_horizontal = pd.concat([df1, df2], axis=1)\n",
        "concatenated_horizontal"
      ]
    },
    {
      "cell_type": "markdown",
      "metadata": {},
      "source": [
        "## 5. Verifying Integrity\n",
        "\n",
        "After performing concatenation or merging, it's important to verify the integrity of the resulting dataframe.\n",
        "We'll illustrate this with an example.\n"
      ]
    },
    {
      "cell_type": "code",
      "execution_count": null,
      "metadata": {},
      "outputs": [],
      "source": [
        "# Verifying integrity\n",
        "integrity_check = pd.merge(df1, df2, on='ID', how='outer', indicator=True)\n",
        "integrity_check['_merge'].value_counts()"
      ]
    }
  ],
  "metadata": {
    "kernelspec": {
      "display_name": "Python 3",
      "language": "python",
      "name": "python3"
    },
    "language_info": {
      "codemirror_mode": {
        "name": "ipython",
        "version": 3
      },
      "file_extension": ".py",
      "mimetype": "text/x-python",
      "name": "python",
      "nbconvert_exporter": "python",
      "pygments_lexer": "ipython3",
      "version": "3.7.10"
    }
  },
  "nbformat": 4,
  "nbformat_minor": 5
}
