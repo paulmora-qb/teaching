{
 "cells": [
  {
   "cell_type": "markdown",
   "id": "21640ae8",
   "metadata": {},
   "source": [
    "# Pandas Aggregation Tutorial\n",
    "\n",
    "In this tutorial, we will cover various aspects of data aggregation in Pandas library of Python. We will go through the following topics:\n",
    "\n",
    "1. Creating a Sample Dataset\n",
    "2. Mean, Median, Max, Sum\n",
    "3. Conditional Selection of Columns\n",
    "4. Getting the Number of Unique Values\n",
    "5. Boolean Masks for Selection\n",
    "6. Groupby Commands\n",
    "\n",
    "Let's get started!\n"
   ]
  },
  {
   "cell_type": "markdown",
   "id": "f4b98f01",
   "metadata": {},
   "source": [
    "## 1. Creating a Sample Dataset\n",
    "\n",
    "First, let's create a sample dataset that we'll use throughout this tutorial.\n",
    "We'll create a DataFrame with columns `Name`, `Age`, `Salary`, and `Department`.\n",
    "Then, we'll display the dataset."
   ]
  },
  {
   "cell_type": "code",
   "execution_count": null,
   "id": "bb206f2e",
   "metadata": {},
   "outputs": [],
   "source": []
  },
  {
   "cell_type": "markdown",
   "id": "3e9ea4f5",
   "metadata": {},
   "source": [
    "## 2. Mean, Median, Max, Sum\n",
    "\n",
    "Let's calculate the mean, median, max, and sum of the `Salary` column."
   ]
  },
  {
   "cell_type": "code",
   "execution_count": null,
   "id": "49635650",
   "metadata": {},
   "outputs": [],
   "source": []
  },
  {
   "cell_type": "markdown",
   "id": "21ea2820",
   "metadata": {},
   "source": [
    "## 3. Conditional Selection of Columns\n",
    "\n",
    "We can select rows based on certain conditions. Let's select people with salary greater than 60000."
   ]
  },
  {
   "cell_type": "code",
   "execution_count": null,
   "id": "37c3b364",
   "metadata": {},
   "outputs": [],
   "source": []
  },
  {
   "cell_type": "markdown",
   "id": "c5b73270",
   "metadata": {},
   "source": [
    "## 4. Getting the Number of Unique Values\n",
    "\n",
    "We can get the number of unique values in a column. Let's find the number of unique names."
   ]
  },
  {
   "cell_type": "code",
   "execution_count": null,
   "id": "c0fef6af",
   "metadata": {},
   "outputs": [],
   "source": []
  },
  {
   "cell_type": "markdown",
   "id": "8fe64d8d",
   "metadata": {},
   "source": [
    "## 5. Boolean Masks for Selection\n",
    "\n",
    "We can use boolean masks to select rows based on conditions. Let's select people with age greater than 30."
   ]
  },
  {
   "cell_type": "code",
   "execution_count": null,
   "id": "8c436bf1",
   "metadata": {},
   "outputs": [],
   "source": []
  },
  {
   "cell_type": "markdown",
   "id": "e9bd7b1f",
   "metadata": {},
   "source": [
    "## 6. Groupby Commands\n",
    "\n",
    "We can group data based on certain criteria using the `groupby` function. Let's group by `Department` and calculate the mean salary for each department."
   ]
  },
  {
   "cell_type": "code",
   "execution_count": null,
   "id": "0e49cb2f",
   "metadata": {},
   "outputs": [],
   "source": []
  }
 ],
 "metadata": {
  "kernelspec": {
   "display_name": "Python 3",
   "language": "python",
   "name": "python3"
  },
  "language_info": {
   "codemirror_mode": {
    "name": "ipython",
    "version": 3
   },
   "file_extension": ".py",
   "mimetype": "text/x-python",
   "name": "python",
   "nbconvert_exporter": "python",
   "pygments_lexer": "ipython3",
   "version": "3.7.10"
  }
 },
 "nbformat": 4,
 "nbformat_minor": 5
}
