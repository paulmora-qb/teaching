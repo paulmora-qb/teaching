{
 "cells": [
  {
   "cell_type": "markdown",
   "metadata": {},
   "source": [
    "# Exercise\n",
    "\n",
    "What follows are several exercises regarding aggregation and grouping in pandas.\n",
    "\n",
    "In this exercise, you will work with a fictional dataset containing sales data for a retail store. The dataset is provided in CSV format and consists of the following columns:\n",
    "\n",
    "1. Month: Month information for the sales data (Categorical - String).\n",
    "2. Sales: Sales data for the month (Numerical - Integer).\n",
    "3. Expenses: Expenses data for the month (Numerical - Integer)."
   ]
  },
  {
   "cell_type": "code",
   "execution_count": null,
   "metadata": {},
   "outputs": [],
   "source": [
    "import pandas as pd\n",
    "\n",
    "# Create a DataFrame with sample data\n",
    "data = {\n",
    "    'Month': ['Jan', 'Feb', 'Mar', 'Apr', 'May'],\n",
    "    'Sales': [100, 120, 140, 160, 180],\n",
    "    'Expenses': [80, 90, 100, 110, 120]\n",
    "}\n",
    "df = pd.DataFrame(data)\n"
   ]
  },
  {
   "cell_type": "markdown",
   "metadata": {},
   "source": [
    "### 1. Exercise 1: Line Plot of Sales Over Months\n",
    "\n",
    "- Plot a line graph showing sales over months.\n",
    "- Set appropriate labels for the x-axis and y-axis.\n",
    "- Add a title to the plot."
   ]
  },
  {
   "cell_type": "code",
   "execution_count": null,
   "metadata": {},
   "outputs": [],
   "source": []
  },
  {
   "cell_type": "markdown",
   "metadata": {},
   "source": [
    "### 2. Bar Plot of Expenses Over Months\n",
    "\n",
    "- Plot a bar graph showing expenses over months.\n",
    "- Set appropriate labels for the x-axis and y-axis.\n",
    "- Add a title to the plot."
   ]
  },
  {
   "cell_type": "code",
   "execution_count": null,
   "metadata": {},
   "outputs": [],
   "source": []
  },
  {
   "cell_type": "markdown",
   "metadata": {},
   "source": [
    "### 3. Plot Sales and Expenses Over Months (Line Plot)\n",
    "\n",
    "- Plot both sales and expenses over months on the same graph using a line plot.\n",
    "- Add legends to differentiate between sales and expenses.\n",
    "- Set appropriate labels for the x-axis and y-axis.\n",
    "- Add a title to the plot."
   ]
  },
  {
   "cell_type": "code",
   "execution_count": null,
   "metadata": {},
   "outputs": [],
   "source": []
  },
  {
   "cell_type": "markdown",
   "metadata": {},
   "source": [
    "### 4. Plot Sales and Expenses Over Months (Bar Plot)\n",
    "\n",
    "- Plot both sales and expenses over months on the same graph using a bar plot.\n",
    "- Add legends to differentiate between sales and expenses.\n",
    "- Set appropriate labels for the x-axis and y-axis.\n",
    "- Add a title to the plot."
   ]
  },
  {
   "cell_type": "code",
   "execution_count": null,
   "metadata": {},
   "outputs": [],
   "source": []
  },
  {
   "cell_type": "markdown",
   "metadata": {},
   "source": [
    "### 5. Plot Sales and Expenses Over Months (Side-by-Side Bar Plot)\n",
    "\n",
    "- Plot both sales and expenses over months on the same graph using a side-by-side bar plot.\n",
    "- Set appropriate labels for the x-axis and y-axis.\n",
    "- Add a title to the plot."
   ]
  },
  {
   "cell_type": "code",
   "execution_count": null,
   "metadata": {},
   "outputs": [],
   "source": []
  }
 ],
 "metadata": {
  "kernelspec": {
   "display_name": "Python 3 (ipykernel)",
   "language": "python",
   "name": "python3"
  },
  "language_info": {
   "codemirror_mode": {
    "name": "ipython",
    "version": 3
   },
   "file_extension": ".py",
   "mimetype": "text/x-python",
   "name": "python",
   "nbconvert_exporter": "python",
   "pygments_lexer": "ipython3",
   "version": "3.11.5"
  }
 },
 "nbformat": 4,
 "nbformat_minor": 4
}
