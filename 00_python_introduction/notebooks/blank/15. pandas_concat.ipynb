{
 "cells": [
  {
   "cell_type": "markdown",
   "id": "f9a294ef",
   "metadata": {},
   "source": [
    "# Pandas Concatenation and Merging Tutorial\n",
    "\n",
    "In this tutorial, we will cover various aspects of concatenating and merging dataframes in Pandas library of Python. We will go through the following topics:\n",
    "\n",
    "1. What is Inner Join, Outer Join, Left Join, Right Join?\n",
    "2. Pandas Merge Command\n",
    "3. Suffixes Attribute within Merge Command\n",
    "4. Concatenation of DataFrames\n",
    "5. Verifying Integrity\n",
    "\n",
    "Let's get started!\n"
   ]
  },
  {
   "cell_type": "markdown",
   "id": "d8dbcadb",
   "metadata": {},
   "source": [
    "## 1. What is Inner Join, Outer Join, Left Join, Right Join?\n",
    "\n",
    "In database terminology, different types of joins are used to combine data from two or more tables based on a related column between them.\n",
    "\n",
    "- **Inner Join**: Returns only the rows where there is a match in both tables.\n",
    "- **Outer Join (Full Outer Join)**: Returns all rows when there is a match in either table.\n",
    "- **Left Join**: Returns all rows from the left table, and the matched rows from the right table. Returns NaN for rows where there is no match.\n",
    "- **Right Join**: Returns all rows from the right table, and the matched rows from the left table. Returns NaN for rows where there is no match.\n",
    "\n",
    "We will illustrate these with examples.\n"
   ]
  },
  {
   "cell_type": "markdown",
   "id": "2cfa1c95",
   "metadata": {},
   "source": [
    "## 2. Pandas Merge Command\n",
    "\n",
    "Pandas provides a `merge()` function to perform database-style joins on DataFrame objects.\n",
    "Syntax: `pd.merge(left, right, how='inner', on=None, left_on=None, right_on=None, left_index=False, right_index=False, suffixes=('_x', '_y'), validate=None)`\n",
    "\n",
    "We'll demonstrate the usage of this command with examples.\n"
   ]
  },
  {
   "cell_type": "markdown",
   "id": "13ccfbba",
   "metadata": {},
   "source": [
    "## 3. Suffixes Attribute within Merge Command\n",
    "\n",
    "The `suffixes` attribute allows us to specify custom suffixes to use for overlapping column names when columns are not merge keys.\n",
    "This helps to distinguish columns with the same name in the resulting DataFrame.\n",
    "\n",
    "We'll see how to use this attribute with examples.\n"
   ]
  },
  {
   "cell_type": "markdown",
   "id": "cdf60797",
   "metadata": {},
   "source": [
    "## 4. Concatenation of DataFrames\n",
    "\n",
    "Concatenation is the process of combining two or more dataframes either along rows (vertically) or columns (horizontally).\n",
    "\n",
    "We'll illustrate both types of concatenation with examples.\n"
   ]
  },
  {
   "cell_type": "markdown",
   "id": "efb8be05",
   "metadata": {},
   "source": [
    "## 5. Verifying Integrity\n",
    "\n",
    "Pandas provides some methods to verify the integrity of data after performing concatenation or merging.\n",
    "We'll see how to do this with examples.\n"
   ]
  },
  {
   "cell_type": "markdown",
   "id": "6f41d888",
   "metadata": {},
   "source": [
    "## Dataset\n",
    "\n",
    "Let's create a sample dataset that we'll use throughout this tutorial.\n",
    "We'll create two dataframes `df1` and `df2`."
   ]
  },
  {
   "cell_type": "code",
   "execution_count": null,
   "id": "3e6fde4b",
   "metadata": {},
   "outputs": [],
   "source": []
  },
  {
   "cell_type": "markdown",
   "id": "f3a5404a",
   "metadata": {},
   "source": [
    "## 1. What is Inner Join, Outer Join, Left Join, Right Join?\n",
    "\n",
    "Let's illustrate each type of join using the datasets `df1` and `df2`.\n"
   ]
  },
  {
   "cell_type": "code",
   "execution_count": null,
   "id": "e89f68be",
   "metadata": {},
   "outputs": [],
   "source": []
  },
  {
   "cell_type": "code",
   "execution_count": null,
   "id": "0ab8bbb1",
   "metadata": {},
   "outputs": [],
   "source": []
  },
  {
   "cell_type": "code",
   "execution_count": null,
   "id": "8dfb9cf8",
   "metadata": {},
   "outputs": [],
   "source": []
  },
  {
   "cell_type": "code",
   "execution_count": null,
   "id": "92f100d1",
   "metadata": {},
   "outputs": [],
   "source": []
  },
  {
   "cell_type": "markdown",
   "id": "4060397b",
   "metadata": {},
   "source": [
    "## 2. Pandas Merge Command\n",
    "\n",
    "Let's demonstrate the usage of the merge command with examples.\n"
   ]
  },
  {
   "cell_type": "code",
   "execution_count": null,
   "id": "28516573",
   "metadata": {},
   "outputs": [],
   "source": []
  },
  {
   "cell_type": "markdown",
   "id": "d0e5f2a0",
   "metadata": {},
   "source": [
    "## 3. Suffixes Attribute within Merge Command\n",
    "\n",
    "Let's see how to use the `suffixes` attribute with examples.\n"
   ]
  },
  {
   "cell_type": "code",
   "execution_count": null,
   "id": "bcdea87d",
   "metadata": {},
   "outputs": [],
   "source": []
  },
  {
   "cell_type": "markdown",
   "id": "d5770931",
   "metadata": {},
   "source": [
    "## 4. Concatenation of DataFrames\n",
    "\n",
    "Let's illustrate concatenation of dataframes, both vertically and horizontally.\n"
   ]
  },
  {
   "cell_type": "code",
   "execution_count": null,
   "id": "81702bc8",
   "metadata": {},
   "outputs": [],
   "source": []
  },
  {
   "cell_type": "code",
   "execution_count": null,
   "id": "bcc2ac88",
   "metadata": {},
   "outputs": [],
   "source": []
  },
  {
   "cell_type": "markdown",
   "id": "3c45ac19",
   "metadata": {},
   "source": [
    "## 5. Verifying Integrity\n",
    "\n",
    "After performing concatenation or merging, it's important to verify the integrity of the resulting dataframe.\n",
    "We'll illustrate this with an example.\n"
   ]
  },
  {
   "cell_type": "code",
   "execution_count": null,
   "id": "ff7d058a",
   "metadata": {},
   "outputs": [],
   "source": []
  }
 ],
 "metadata": {
  "kernelspec": {
   "display_name": "Python 3",
   "language": "python",
   "name": "python3"
  },
  "language_info": {
   "codemirror_mode": {
    "name": "ipython",
    "version": 3
   },
   "file_extension": ".py",
   "mimetype": "text/x-python",
   "name": "python",
   "nbconvert_exporter": "python",
   "pygments_lexer": "ipython3",
   "version": "3.7.10"
  }
 },
 "nbformat": 4,
 "nbformat_minor": 5
}
