{
 "cells": [
  {
   "cell_type": "markdown",
   "metadata": {},
   "source": [
    "# Exercise\n",
    "\n",
    "What follows are several exercises regarding aggregation and grouping in pandas.\n",
    "\n",
    "In this exercise, you will work with a fictional dataset containing sales data for a retail store. The dataset is provided in CSV format and consists of the following columns:\n",
    "\n",
    "1. Age: Age of the individuals.\n",
    "2. Income: Annual income in USD.\n",
    "3. Education: Education level of the individuals.\n",
    "4. Experience: Years of professional experience."
   ]
  },
  {
   "cell_type": "code",
   "execution_count": null,
   "metadata": {},
   "outputs": [],
   "source": [
    "import pandas as pd\n",
    "import numpy as np\n",
    "\n",
    "# Create a DataFrame with missing values\n",
    "data = {\n",
    "    'Age': [25, 30, np.nan, 35, 40],  # Age of the individuals\n",
    "    'Income': [50000, 60000, np.nan, 70000, 80000],  # Annual income in USD\n",
    "    'Education': ['High School', 'Bachelor', np.nan, 'Master', 'Doctorate'],  # Educational qualification\n",
    "    'Experience': [5, 8, np.nan, 12, 15]  # Years of professional experience\n",
    "}\n",
    "df = pd.DataFrame(data)\n"
   ]
  },
  {
   "cell_type": "markdown",
   "metadata": {},
   "source": [
    "### 1. Impute Missing Values with Mean\n",
    "\n",
    "- Impute missing values in the 'Age' and 'Income' columns with the mean of each respective column.\n",
    "- Display the DataFrame after imputation."
   ]
  },
  {
   "cell_type": "code",
   "execution_count": null,
   "metadata": {},
   "outputs": [],
   "source": []
  },
  {
   "cell_type": "markdown",
   "metadata": {},
   "source": [
    "### 2. Impute Missing Values with Median\n",
    "\n",
    "- Impute missing values in the 'Age' and 'Income' columns with the median of each respective column.\n",
    "- Display the DataFrame after imputation."
   ]
  },
  {
   "cell_type": "code",
   "execution_count": null,
   "metadata": {},
   "outputs": [],
   "source": []
  },
  {
   "cell_type": "markdown",
   "metadata": {},
   "source": [
    "### 3. Forward Fill Missing Values in a Time Series\n",
    "\n",
    "- Forward fill missing values in the 'Education' column.\n",
    "- Display the DataFrame after imputation."
   ]
  },
  {
   "cell_type": "code",
   "execution_count": null,
   "metadata": {},
   "outputs": [],
   "source": []
  }
 ],
 "metadata": {
  "kernelspec": {
   "display_name": "Python 3 (ipykernel)",
   "language": "python",
   "name": "python3"
  },
  "language_info": {
   "codemirror_mode": {
    "name": "ipython",
    "version": 3
   },
   "file_extension": ".py",
   "mimetype": "text/x-python",
   "name": "python",
   "nbconvert_exporter": "python",
   "pygments_lexer": "ipython3",
   "version": "3.11.5"
  }
 },
 "nbformat": 4,
 "nbformat_minor": 4
}
