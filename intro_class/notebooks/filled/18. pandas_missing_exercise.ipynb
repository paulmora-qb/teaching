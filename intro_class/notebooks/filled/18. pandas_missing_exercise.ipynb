{
 "cells": [
  {
   "cell_type": "markdown",
   "metadata": {},
   "source": [
    "# Exercise\n",
    "\n",
    "What follows are several exercises regarding aggregation and grouping in pandas.\n",
    "\n",
    "In this exercise, you will work with a fictional dataset containing sales data for a retail store. The dataset is provided in CSV format and consists of the following columns:\n",
    "\n",
    "1. Age: Age of the individuals.\n",
    "2. Income: Annual income in USD.\n",
    "3. Education: Education level of the individuals.\n",
    "4. Experience: Years of professional experience."
   ]
  },
  {
   "cell_type": "code",
   "execution_count": 5,
   "metadata": {},
   "outputs": [],
   "source": [
    "import pandas as pd\n",
    "import numpy as np\n",
    "\n",
    "# Create a DataFrame with missing values\n",
    "data = {\n",
    "    'Age': [25, 30, np.nan, 35, 40],  # Age of the individuals\n",
    "    'Income': [50000, 60000, np.nan, 70000, 80000],  # Annual income in USD\n",
    "    'Education': ['High School', 'Bachelor', np.nan, 'Master', 'Doctorate'],  # Educational qualification\n",
    "    'Experience': [5, 8, np.nan, 12, 15]  # Years of professional experience\n",
    "}\n",
    "df = pd.DataFrame(data)\n"
   ]
  },
  {
   "cell_type": "markdown",
   "metadata": {},
   "source": [
    "### 1. Impute Missing Values with Mean\n",
    "\n",
    "- Impute missing values in the 'Age' and 'Income' columns with the mean of each respective column.\n",
    "- Display the DataFrame after imputation."
   ]
  },
  {
   "cell_type": "code",
   "execution_count": 17,
   "metadata": {},
   "outputs": [
    {
     "name": "stdout",
     "output_type": "stream",
     "text": [
      "    Age   Income    Education  Experience\n",
      "0  25.0  50000.0  High School         5.0\n",
      "1  30.0  60000.0     Bachelor         8.0\n",
      "2  32.5  65000.0          NaN        10.0\n",
      "3  35.0  70000.0       Master        12.0\n",
      "4  40.0  80000.0    Doctorate        15.0\n"
     ]
    }
   ],
   "source": [
    "# Identify integer columns\n",
    "integer_columns = df.select_dtypes(include=['int', 'int64', 'float']).columns\n",
    "\n",
    "# Calculate mean for each integer column\n",
    "mean_values = df[integer_columns].mean()\n",
    "\n",
    "# Impute missing values in integer columns with mean values\n",
    "df[integer_columns] = df[integer_columns].fillna(mean_values)\n",
    "\n",
    "print(df)"
   ]
  },
  {
   "cell_type": "markdown",
   "metadata": {},
   "source": [
    "### 2. Impute Missing Values with Median\n",
    "\n",
    "- Impute missing values in the 'Age' and 'Income' columns with the median of each respective column.\n",
    "- Display the DataFrame after imputation."
   ]
  },
  {
   "cell_type": "code",
   "execution_count": 19,
   "metadata": {},
   "outputs": [
    {
     "name": "stdout",
     "output_type": "stream",
     "text": [
      "    Age   Income    Education  Experience\n",
      "0  25.0  50000.0  High School         5.0\n",
      "1  30.0  60000.0     Bachelor         8.0\n",
      "2  32.5  65000.0          NaN        10.0\n",
      "3  35.0  70000.0       Master        12.0\n",
      "4  40.0  80000.0    Doctorate        15.0\n"
     ]
    }
   ],
   "source": [
    "# Identify integer columns\n",
    "integer_columns = df.select_dtypes(include=['int', 'int64', 'float']).columns\n",
    "\n",
    "# Calculate mean for each integer column\n",
    "mean_values = df[integer_columns].median()\n",
    "\n",
    "# Impute missing values in integer columns with mean values\n",
    "df[integer_columns] = df[integer_columns].fillna(mean_values)\n",
    "\n",
    "print(df)"
   ]
  },
  {
   "cell_type": "markdown",
   "metadata": {},
   "source": [
    "### 3. Forward Fill Missing Values in a Time Series\n",
    "\n",
    "- Forward fill missing values in the 'Education' column.\n",
    "- Display the DataFrame after imputation."
   ]
  },
  {
   "cell_type": "code",
   "execution_count": 20,
   "metadata": {},
   "outputs": [
    {
     "name": "stdout",
     "output_type": "stream",
     "text": [
      "\n",
      "DataFrame after forward fill in 'Education' column:\n",
      "    Age   Income    Education  Experience\n",
      "0  25.0  50000.0  High School         5.0\n",
      "1  30.0  60000.0     Bachelor         8.0\n",
      "2  32.5  65000.0     Bachelor        10.0\n",
      "3  35.0  70000.0       Master        12.0\n",
      "4  40.0  80000.0    Doctorate        15.0\n"
     ]
    }
   ],
   "source": [
    "# Exercise 3 Solution\n",
    "df_imputed = df.ffill()\n",
    "print(\"\\nDataFrame after forward fill in 'Education' column:\")\n",
    "print(df_imputed)\n"
   ]
  }
 ],
 "metadata": {
  "kernelspec": {
   "display_name": "Python 3 (ipykernel)",
   "language": "python",
   "name": "python3"
  },
  "language_info": {
   "codemirror_mode": {
    "name": "ipython",
    "version": 3
   },
   "file_extension": ".py",
   "mimetype": "text/x-python",
   "name": "python",
   "nbconvert_exporter": "python",
   "pygments_lexer": "ipython3",
   "version": "3.11.5"
  }
 },
 "nbformat": 4,
 "nbformat_minor": 4
}
