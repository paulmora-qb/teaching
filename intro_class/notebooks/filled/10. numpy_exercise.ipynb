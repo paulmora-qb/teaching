{
 "cells": [
  {
   "cell_type": "markdown",
   "id": "a050ef1d-6610-49ee-9ef5-7b9e861d04b9",
   "metadata": {},
   "source": [
    "# Exercises \n"
   ]
  },
  {
   "cell_type": "markdown",
   "id": "3a6449e3-4fa5-4cc3-abdc-4879445be319",
   "metadata": {},
   "source": [
    "## 1. Regression factors\n",
    "The formula for the regression coefficients is\n",
    "\n",
    "$\\beta = (X'X)^{(-1)}X'Y $\n",
    "\n",
    "But the data is a bit messed up, meaning that the format of the independent variables are saved in a flat array. That means we have a 1xN vector. I.e. the data was changed from that: \n",
    "\n",
    "<img src=\"../../images/data_before.png\" alt=\"\" width=\"500\"/>\n",
    "\n",
    "to that:\n",
    "\n",
    "<img src=\"../../images/data_after.png\" alt=\"\" width=\"700\"/>\n",
    "\n",
    "The array contains the following variables: \n",
    "\n",
    "- Sale (in Dollars) - Amount of money received by the store\n",
    "- Pack Size - Number of bottles per item\n",
    "- State Bottle Cost - Cost of producing the bottle \n",
    "- Packs Sold - Amount of bottles sold\n",
    "- Bottle Volume (in ml) - How many ml each bottle has\n",
    "\n",
    "\n",
    "\n",
    "Question: Determine the regression coefficents of the following OLS regression\n",
    "\n",
    "$Sale = \\beta_0 + \\beta_1 * (Pack Size) + \\beta_2 * (State Bottle Cost) + \\beta_3 * (Packs Sold) + \\beta_4 * (Bottle Volume) + \\epsilon $"
   ]
  },
  {
   "cell_type": "code",
   "execution_count": null,
   "id": "875150d4",
   "metadata": {},
   "outputs": [],
   "source": [
    "import pickle\n",
    "\n",
    "def load_data(path: str):\n",
    "    with open(path,'rb') as f:\n",
    "        data = pickle.load(f)\n",
    "    return data\n",
    "\n",
    "data = load_data(\"../../data/data.pkl\")"
   ]
  },
  {
   "cell_type": "markdown",
   "id": "86818843",
   "metadata": {},
   "source": [
    "### Numpy"
   ]
  },
  {
   "cell_type": "code",
   "execution_count": null,
   "id": "5360ff3b-a456-4752-a298-5beba4875925",
   "metadata": {},
   "outputs": [],
   "source": [
    "# Numpy Way\n",
    "import numpy as np\n",
    "\n",
    "# Reshaping array from a 1x500000 format to a 5x100000 format\n",
    "reshaped_data = data.reshape(100_000,-1)\n",
    "\n",
    "# Changing the string varibles to floats\n",
    "float_data = reshaped_data.astype(float)\n",
    "\n",
    "# Separating the Sale variable from the rest\n",
    "independent = float_data[:,1:]\n",
    "Y = float_data[:,0]\n",
    "\n",
    "# Creating a column with only ones and add that to the numpy array as a column (this is done for the intercept)\n",
    "ones = np.ones(independent.shape[0])\n",
    "X = np.c_[ones, independent]\n",
    "\n",
    "# Applying regression coefficient formula\n",
    "X_prime = np.transpose(X)  \n",
    "\n",
    "inverse_part = np.linalg.inv(np.dot(X_prime, X))\n",
    "X_prime_Y = np.dot(X_prime, Y)\n",
    "beta = np.dot(inverse_part, X_prime_Y)\n",
    "\n",
    "# Printing the coefficients and the name of the regressor \n",
    "print(beta)"
   ]
  },
  {
   "cell_type": "markdown",
   "id": "0085ba43",
   "metadata": {},
   "source": [
    "### Statsmodels"
   ]
  },
  {
   "cell_type": "code",
   "execution_count": null,
   "id": "f5a3714e-2d21-462e-a263-1cd59bffc9c2",
   "metadata": {},
   "outputs": [],
   "source": [
    "# Statsmodels\n",
    "import numpy as np\n",
    "import statsmodels.api as sm\n",
    "\n",
    "# Reshaping array from a 1x500000 format to a 5x100000 format\n",
    "reshaped_data = data.reshape(100_000,-1)\n",
    "\n",
    "# Changing the string varibles to floats\n",
    "float_data = reshaped_data.astype(float)\n",
    "\n",
    "# Separating the Sale variable from the rest\n",
    "independent = float_data[:,1:]\n",
    "Y = float_data[:,0]\n",
    "\n",
    "# Creating a column with only ones and add that to the numpy array as a column (this is done for the intercept)\n",
    "ones = np.ones(independent.shape[0])\n",
    "X = np.c_[ones, independent]\n",
    "\n",
    "# Defining statistical model\n",
    "model = sm.OLS(Y, X)\n",
    "\n",
    "# Fitting the results\n",
    "results = model.fit()\n",
    "\n",
    "# Printing the entire OLS summary statistics\n",
    "results.summary()"
   ]
  },
  {
   "cell_type": "markdown",
   "id": "cec1cb14",
   "metadata": {},
   "source": [
    "## 2. Matrix multiplication\n",
    "\n",
    "In the 20×20 grid below, four numbers along a diagonal line have been marked in red.\n",
    "\n",
    "<img src=\"assets/number.png\" alt=\"\" width=\"500\"/>\n",
    "\n",
    "The product of these numbers is 26 × 63 × 78 × 14 = 1788696.\n",
    "\n",
    "What is the greatest product of four adjacent numbers in the same direction (up, down, left, right, or diagonally) in the 20×20 grid?\n",
    "\n",
    "### Potential approach\n",
    "1. Getting the numbers in a workable format - (from string to integers, in a list, etc)\n",
    "2. Writing a loop to extract a 4x4 matrix of the grid\n",
    "3. Writing a function to calculate all potential products"
   ]
  },
  {
   "cell_type": "code",
   "execution_count": 1,
   "id": "1a28bb87",
   "metadata": {},
   "outputs": [],
   "source": [
    "num = (\"\"\"\n",
    "08 02 22 97 38 15 00 40 00 75 04 05 07 78 52 12 50 77 91 08\n",
    "49 49 99 40 17 81 18 57 60 87 17 40 98 43 69 48 04 56 62 00\n",
    "81 49 31 73 55 79 14 29 93 71 40 67 53 88 30 03 49 13 36 65\n",
    "52 70 95 23 04 60 11 42 69 24 68 56 01 32 56 71 37 02 36 91\n",
    "22 31 16 71 51 67 63 89 41 92 36 54 22 40 40 28 66 33 13 80\n",
    "24 47 32 60 99 03 45 02 44 75 33 53 78 36 84 20 35 17 12 50\n",
    "32 98 81 28 64 23 67 10 26 38 40 67 59 54 70 66 18 38 64 70\n",
    "67 26 20 68 02 62 12 20 95 63 94 39 63 08 40 91 66 49 94 21\n",
    "24 55 58 05 66 73 99 26 97 17 78 78 96 83 14 88 34 89 63 72\n",
    "21 36 23 09 75 00 76 44 20 45 35 14 00 61 33 97 34 31 33 95\n",
    "78 17 53 28 22 75 31 67 15 94 03 80 04 62 16 14 09 53 56 92\n",
    "16 39 05 42 96 35 31 47 55 58 88 24 00 17 54 24 36 29 85 57\n",
    "86 56 00 48 35 71 89 07 05 44 44 37 44 60 21 58 51 54 17 58\n",
    "19 80 81 68 05 94 47 69 28 73 92 13 86 52 17 77 04 89 55 40\n",
    "04 52 08 83 97 35 99 16 07 97 57 32 16 26 26 79 33 27 98 66\n",
    "88 36 68 87 57 62 20 72 03 46 33 67 46 55 12 32 63 93 53 69\n",
    "04 42 16 73 38 25 39 11 24 94 72 18 08 46 29 32 40 62 76 36\n",
    "20 69 36 41 72 30 23 88 34 62 99 69 82 67 59 85 74 04 36 16\n",
    "20 73 35 29 78 31 90 01 74 31 49 71 48 86 81 16 23 57 05 54\n",
    "01 70 54 71 83 51 54 69 16 92 33 48 61 43 52 01 89 19 67 48\"\"\".replace(\"\\n\", \" \"))"
   ]
  },
  {
   "cell_type": "code",
   "execution_count": 4,
   "id": "87f6047e",
   "metadata": {},
   "outputs": [
    {
     "data": {
      "text/plain": [
       "48477312"
      ]
     },
     "execution_count": 4,
     "metadata": {},
     "output_type": "execute_result"
    }
   ],
   "source": [
    "import numpy as np\n",
    "grid = np.array([list(map(int, num.split()))])\n",
    "\n",
    "# Write a function to calculate the maximum product of four adjacent numbers in a given direction\n",
    "def max_product(grid):\n",
    "    max_prod = 0\n",
    "    rows, cols = grid.shape\n",
    "\n",
    "    # Check horizontally\n",
    "    for i in range(rows):\n",
    "        for j in range(cols - 3):\n",
    "            prod = np.prod(grid[i, j:j+4])\n",
    "            if prod > max_prod:\n",
    "                max_prod = prod\n",
    "\n",
    "    # Check vertically\n",
    "    for i in range(rows - 3):\n",
    "        for j in range(cols):\n",
    "            prod = np.prod(grid[i:i+4, j])\n",
    "            if prod > max_prod:\n",
    "                max_prod = prod\n",
    "\n",
    "    # Check diagonally (down-right)\n",
    "    for i in range(rows - 3):\n",
    "        for j in range(cols - 3):\n",
    "            prod = np.prod([grid[i+k, j+k] for k in range(4)])\n",
    "            if prod > max_prod:\n",
    "                max_prod = prod\n",
    "\n",
    "    # Check diagonally (down-left)\n",
    "    for i in range(rows - 3):\n",
    "        for j in range(3, cols):\n",
    "            prod = np.prod([grid[i+k, j-k] for k in range(4)])\n",
    "            if prod > max_prod:\n",
    "                max_prod = prod\n",
    "\n",
    "    return max_prod\n",
    "\n",
    "max_product(grid)"
   ]
  }
 ],
 "metadata": {
  "kernelspec": {
   "display_name": "Python 3 (ipykernel)",
   "language": "python",
   "name": "python3"
  },
  "language_info": {
   "codemirror_mode": {
    "name": "ipython",
    "version": 3
   },
   "file_extension": ".py",
   "mimetype": "text/x-python",
   "name": "python",
   "nbconvert_exporter": "python",
   "pygments_lexer": "ipython3",
   "version": "3.11.5"
  }
 },
 "nbformat": 4,
 "nbformat_minor": 5
}
