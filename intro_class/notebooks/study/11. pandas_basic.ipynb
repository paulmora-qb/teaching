{
  "cells": [
    {
      "cell_type": "markdown",
      "metadata": {},
      "source": [
        "# Pandas Basics Tutorial"
      ]
    },
    {
      "cell_type": "markdown",
      "metadata": {},
      "source": [
        "# 1. What is Pandas?\n",
        "\n",
        "Pandas is a fast, powerful, flexible, and easy-to-use open-source data analysis and manipulation library built on top of the Python programming language."
      ]
    },
    {
      "cell_type": "markdown",
      "metadata": {},
      "source": []
    },
    {
      "cell_type": "code",
      "execution_count": 1,
      "metadata": {},
      "outputs": [],
      "source": []
    },
    {
      "cell_type": "markdown",
      "metadata": {},
      "source": [
        "# 2. Why and When is Pandas Used?\n",
        "\n",
        "Pandas is used for structured data operations and manipulations. It is extensively used for data preparation, cleaning, and analysis. It is incredibly efficient for handling and analyzing data not fitting into memory."
      ]
    },
    {
      "cell_type": "markdown",
      "metadata": {},
      "source": [
        "# 3. Difference and Benefit Against Using Numpy\n",
        "\n",
        "Pandas provides high-level data structures and functions designed to make data analysis fast and easy. While Numpy is focused on numerical computations, Pandas is designed for working with tabular or heterogeneous data. Pandas DataFrames allow for more flexible data manipulation and are equipped with a large number of methods for powerful data analysis."
      ]
    },
    {
      "cell_type": "code",
      "execution_count": null,
      "metadata": {},
      "outputs": [],
      "source": []
    },
    {
      "cell_type": "markdown",
      "metadata": {},
      "source": [
        "# 4. Pandas Series vs Pandas DataFrame\n",
        "\n",
        "A Pandas Series is a one-dimensional array-like object that can hold many data types, whereas a DataFrame is a two-dimensional, size-mutable, potentially heterogeneous tabular data structure with labeled axes (rows and columns)."
      ]
    },
    {
      "cell_type": "code",
      "execution_count": null,
      "metadata": {},
      "outputs": [],
      "source": []
    },
    {
      "cell_type": "markdown",
      "metadata": {},
      "source": [
        "# 5. Viewing Data Through .head() and .tail()\n",
        "\n",
        "The `.head()` method shows the first few rows of the DataFrame, while `.tail()` shows the last few rows."
      ]
    },
    {
      "cell_type": "code",
      "execution_count": null,
      "metadata": {},
      "outputs": [],
      "source": []
    },
    {
      "cell_type": "markdown",
      "metadata": {},
      "source": [
        "# 6. What is the dtypes Command Doing?\n",
        "\n",
        "The `dtypes` command shows the data type of each column in the DataFrame."
      ]
    },
    {
      "cell_type": "code",
      "execution_count": null,
      "metadata": {},
      "outputs": [],
      "source": []
    },
    {
      "cell_type": "markdown",
      "metadata": {},
      "source": [
        "# 7. What Does the describe() Command Do?\n",
        "\n",
        "The `describe()` command provides a summary of the statistics pertaining to the DataFrame columns."
      ]
    },
    {
      "cell_type": "code",
      "execution_count": null,
      "metadata": {},
      "outputs": [],
      "source": []
    },
    {
      "cell_type": "markdown",
      "metadata": {},
      "source": [
        "# 8. Understanding .columns, .index, and .values Attributes\n",
        "\n",
        "The `.columns` attribute shows the names of the columns, `.index` displays the index of the DataFrame, and `.values` extracts the data from the DataFrame as a numpy array."
      ]
    },
    {
      "cell_type": "code",
      "execution_count": null,
      "metadata": {},
      "outputs": [],
      "source": []
    },
    {
      "cell_type": "markdown",
      "metadata": {},
      "source": [
        "# 9. Different Ways to Select a Column\n",
        "\n",
        "You can select a column from a DataFrame in multiple ways, including `df['column_name']`, `df.column_name`, and `df.loc[:, 'column_name']`. The `.loc` method is recommended for more complex data selection operations."
      ]
    },
    {
      "cell_type": "code",
      "execution_count": null,
      "metadata": {},
      "outputs": [],
      "source": []
    },
    {
      "cell_type": "markdown",
      "metadata": {},
      "source": [
        "# 10. What is .iloc and When is It Used?\n",
        "\n",
        "The `.iloc` method is used for selecting rows and columns by their position. It is particularly useful when the index labels are not known."
      ]
    },
    {
      "cell_type": "code",
      "execution_count": null,
      "metadata": {},
      "outputs": [],
      "source": []
    }
  ],
  "metadata": {
    "kernelspec": {
      "display_name": "Python 3",
      "language": "python",
      "name": "python3"
    },
    "language_info": {
      "codemirror_mode": {
        "name": "ipython",
        "version": 3
      },
      "file_extension": ".py",
      "mimetype": "text/x-python",
      "name": "python",
      "nbconvert_exporter": "python",
      "pygments_lexer": "ipython3",
      "version": "3.x"
    }
  },
  "nbformat": 4,
  "nbformat_minor": 4
}
