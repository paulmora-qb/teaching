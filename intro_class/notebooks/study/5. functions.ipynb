{
 "cells": [
  {
   "cell_type": "markdown",
   "id": "32276f03",
   "metadata": {},
   "source": [
    "# Python Functions Tutorial\n",
    "\n",
    "This notebook covers various aspects of Python functions."
   ]
  },
  {
   "cell_type": "markdown",
   "id": "2ff79790",
   "metadata": {},
   "source": [
    "### Example Dataset\n",
    "\n",
    "Let's start by creating an example dataset of names and scores."
   ]
  },
  {
   "cell_type": "code",
   "execution_count": 1,
   "id": "bf2b467a",
   "metadata": {},
   "outputs": [],
   "source": []
  },
  {
   "cell_type": "markdown",
   "id": "17fd26ba",
   "metadata": {},
   "source": [
    "### 1. Why are we using functions? What is the benefit?\n",
    "\n",
    "Functions help in organizing code, making it more readable, reusable, and easier to maintain. They allow us to break down complex tasks into smaller, manageable chunks."
   ]
  },
  {
   "cell_type": "markdown",
   "id": "cdde20ca",
   "metadata": {},
   "source": [
    "### 2. Modular Programming\n",
    "\n",
    "Modular programming is a software design technique that emphasizes breaking down programs into independent, interchangeable modules (functions in Python) to promote code reusability and maintainability."
   ]
  },
  {
   "cell_type": "code",
   "execution_count": 2,
   "id": "c5510c98",
   "metadata": {},
   "outputs": [],
   "source": []
  },
  {
   "cell_type": "markdown",
   "id": "6e98c358",
   "metadata": {},
   "source": [
    "### 3. Difference between Local and Global Scope\n",
    "\n",
    "Local scope refers to variables defined within a function and are only accessible within that function. Global scope refers to variables defined outside of any function and are accessible throughout the code."
   ]
  },
  {
   "cell_type": "markdown",
   "id": "928dc1fa",
   "metadata": {},
   "source": [
    "### 4. Parameters and Positional Parameters\n",
    "\n",
    "Parameters are placeholders for values that are passed into a function. Positional parameters are parameters that are passed by their position in the function call. It's important to ensure the correct order of positional parameters when calling a function, otherwise, the function may not behave as expected."
   ]
  },
  {
   "cell_type": "code",
   "execution_count": 3,
   "id": "130c59e5",
   "metadata": {},
   "outputs": [],
   "source": []
  },
  {
   "cell_type": "markdown",
   "id": "bac0f2dc",
   "metadata": {},
   "source": [
    "### 5. Mistakes leading to Positional Argument Follows Keyword Argument\n",
    "\n",
    "This error occurs when positional arguments are mixed with keyword arguments, and the positional argument follows a keyword argument."
   ]
  },
  {
   "cell_type": "code",
   "execution_count": 4,
   "id": "552e6b6c",
   "metadata": {},
   "outputs": [
    {
     "name": "stderr",
     "output_type": "stream",
     "text": [
      "TypeError: greet() got multiple values for argument 'name'\n"
     ]
    }
   ],
   "source": []
  },
  {
   "cell_type": "markdown",
   "id": "34f78ba4",
   "metadata": {},
   "source": [
    "### 6. Keyword Parameters\n",
    "\n",
    "Keyword parameters allow passing arguments to a function using their corresponding parameter names, which can make function calls more explicit and readable."
   ]
  },
  {
   "cell_type": "code",
   "execution_count": 5,
   "id": "a05e4ddb",
   "metadata": {},
   "outputs": [],
   "source": []
  },
  {
   "cell_type": "markdown",
   "id": "eee1c74d",
   "metadata": {},
   "source": [
    "### 7. Default Values in Python Functions\n",
    "\n",
    "Default values allow defining parameters with pre-defined values, which are used when the function is called without providing a value for those parameters."
   ]
  },
  {
   "cell_type": "code",
   "execution_count": 6,
   "id": "125b0ebd",
   "metadata": {},
   "outputs": [],
   "source": []
  },
  {
   "cell_type": "markdown",
   "id": "878d15d9",
   "metadata": {},
   "source": [
    "### 8. Annotations in Functions\n",
    "\n",
    "Annotations in Python functions provide a way to attach metadata (such as data types) to the parameters and return value of a function. They are not enforced by Python, but they can be useful for documentation and code readability."
   ]
  },
  {
   "cell_type": "code",
   "execution_count": 7,
   "id": "b8a6e5a2",
   "metadata": {},
   "outputs": [],
   "source": []
  }
 ],
 "metadata": {
  "kernelspec": {
   "display_name": "Python 3",
   "language": "python",
   "name": "python3"
  },
  "language_info": {
   "codemirror_mode": {
    "name": "ipython",
    "version": 3
   },
   "file_extension": ".py",
   "mimetype": "text/x-python",
   "name": "python",
   "nbconvert_exporter": "python",
   "pygments_lexer": "ipython3",
   "version": "3.8.5"
  }
 },
 "nbformat": 4,
 "nbformat_minor": 5
}
