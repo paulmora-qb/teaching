{
 "cells": [
  {
   "cell_type": "markdown",
   "metadata": {},
   "source": [
    "# Exercise\n",
    "\n",
    "What follows are several exercises regarding aggregation and grouping in pandas.\n",
    "\n",
    "In this exercise, you will work with a fictional dataset containing sales data for a retail store. The dataset is provided in CSV format and consists of the following columns:\n",
    "\n",
    "1. Month: Month information for the sales data (Categorical - String).\n",
    "2. Sales: Sales data for the month (Numerical - Integer).\n",
    "3. Expenses: Expenses data for the month (Numerical - Integer)."
   ]
  },
  {
   "cell_type": "code",
   "execution_count": 1,
   "metadata": {},
   "outputs": [],
   "source": []
  },
  {
   "cell_type": "markdown",
   "metadata": {},
   "source": [
    "### 1. Concatenate Two Datasets Vertically\n",
    "\n",
    "- Concatenate df1 and df2 vertically (along rows) to create a single DataFrame.\n",
    "- Ensure the resulting DataFrame has unique index values.\n",
    "- Display the concatenated DataFrame."
   ]
  },
  {
   "cell_type": "code",
   "execution_count": 2,
   "metadata": {},
   "outputs": [
    {
     "name": "stdout",
     "output_type": "stream",
     "text": [
      "Concatenated DataFrame (vertically):\n",
      "   ID     Name  Age\n",
      "0   1    Alice   25\n",
      "1   2      Bob   30\n",
      "2   3  Charlie   35\n",
      "3   4    David   40\n",
      "4   5      Eva   45\n",
      "5   6    Frank   50\n"
     ]
    }
   ],
   "source": []
  },
  {
   "cell_type": "markdown",
   "metadata": {},
   "source": [
    "### 2. Concatenate Two Datasets Horizontally\n",
    "\n",
    "- Concatenate df1 and df2 horizontally (along columns) to create a single DataFrame.\n",
    "- Ensure the resulting DataFrame has unique index values.\n",
    "- Display the concatenated DataFrame."
   ]
  },
  {
   "cell_type": "code",
   "execution_count": 3,
   "metadata": {},
   "outputs": [
    {
     "name": "stdout",
     "output_type": "stream",
     "text": [
      "\n",
      "Concatenated DataFrame (horizontally):\n",
      "   ID     Name  Age  ID   Name  Age\n",
      "0   1    Alice   25   4  David   40\n",
      "1   2      Bob   30   5    Eva   45\n",
      "2   3  Charlie   35   6  Frank   50\n"
     ]
    }
   ],
   "source": []
  },
  {
   "cell_type": "markdown",
   "metadata": {},
   "source": [
    "### 3. Concatenate Two Datasets with Different Columns\n",
    "\n",
    "- Create a new DataFrame df3 with additional columns.\n",
    "- Concatenate df1 and df3 horizontally.\n",
    "- Fill missing values in the resulting DataFrame with appropriate values.\n",
    "- Display the concatenated DataFrame."
   ]
  },
  {
   "cell_type": "code",
   "execution_count": 8,
   "metadata": {},
   "outputs": [
    {
     "name": "stdout",
     "output_type": "stream",
     "text": [
      "\n",
      "Concatenated DataFrame (with different columns):\n",
      "   ID     Name  Age  Salary   Position\n",
      "0   1    Alice   25   50000    Manager\n",
      "1   2      Bob   30   60000  Developer\n",
      "2   3  Charlie   35   70000    Analyst\n"
     ]
    }
   ],
   "source": []
  }
 ],
 "metadata": {
  "kernelspec": {
   "display_name": "Python 3 (ipykernel)",
   "language": "python",
   "name": "python3"
  },
  "language_info": {
   "codemirror_mode": {
    "name": "ipython",
    "version": 3
   },
   "file_extension": ".py",
   "mimetype": "text/x-python",
   "name": "python",
   "nbconvert_exporter": "python",
   "pygments_lexer": "ipython3",
   "version": "3.11.5"
  }
 },
 "nbformat": 4,
 "nbformat_minor": 4
}
