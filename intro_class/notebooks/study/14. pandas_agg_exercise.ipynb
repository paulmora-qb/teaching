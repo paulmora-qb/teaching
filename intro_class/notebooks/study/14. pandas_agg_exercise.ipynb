{
 "cells": [
  {
   "cell_type": "markdown",
   "metadata": {},
   "source": [
    "# Exercise\n",
    "\n",
    "What follows are several exercises regarding aggregation and grouping in pandas.\n",
    "\n",
    "In this exercise, you will work with a fictional dataset containing sales data for a retail store. The dataset is provided in CSV format and consists of the following columns:\n",
    "\n",
    "1. Employee_ID: Unique identifier for each employee (Integer).\n",
    "2. Department: Department where the employee works (Categorical - String).\n",
    "3. Gender: Gender of the employee (Categorical - String).\n",
    "4. Age: Age of the employee (Integer).\n",
    "5. Years_of_Experience: Number of years of experience of the employee (Integer).\n",
    "6. Performance_Rating: Performance rating of the employee (Float, scale of 1 to 5).\n",
    "Your task is to use pandas to perform various data analysis tasks and derive insights from the dataset."
   ]
  },
  {
   "cell_type": "code",
   "execution_count": null,
   "metadata": {},
   "outputs": [],
   "source": [
    "import pandas as pd\n",
    "\n",
    "# Create a fictional dataset\n",
    "data = {\n",
    "    'Employee_ID': [101, 102, 103, 104, 105, 106, 107, 108, 109, 110],\n",
    "    'Department': ['HR', 'IT', 'Marketing', 'Finance', 'HR', 'IT', 'Marketing', 'Finance', 'HR', 'IT'],\n",
    "    'Gender': ['Male', 'Female', 'Male', 'Female', 'Male', 'Female', 'Male', 'Female', 'Male', 'Female'],\n",
    "    'Age': [35, 28, 42, 39, 45, 32, 37, 41, 29, 36],\n",
    "    'Years_of_Experience': [10, 5, 15, 12, 20, 8, 13, 18, 6, 11],\n",
    "    'Performance_Rating': [4.5, 3.8, 4.9, 4.2, 4.7, 4.0, 4.8, 4.3, 3.9, 4.6]\n",
    "}\n",
    "\n",
    "# Convert the dictionary to a DataFrame\n",
    "df = pd.DataFrame(data)\n"
   ]
  },
  {
   "cell_type": "markdown",
   "metadata": {},
   "source": [
    "### 1. Calculate Average Performance Rating by Department and Gender:\n",
    "- Group the data by Department and Gender.\n",
    "- Calculate the average Performance_Rating for each group."
   ]
  },
  {
   "cell_type": "code",
   "execution_count": null,
   "metadata": {},
   "outputs": [],
   "source": []
  },
  {
   "cell_type": "markdown",
   "metadata": {},
   "source": [
    "### 2. Identify Top Performer in Each Department:\n",
    "- For each department, identify the employee with the highest Performance_Rating.\n",
    "- Display the employee's Employee_ID, Department, and Performance_Rating."
   ]
  },
  {
   "cell_type": "code",
   "execution_count": null,
   "metadata": {},
   "outputs": [],
   "source": []
  },
  {
   "cell_type": "markdown",
   "metadata": {},
   "source": [
    "### 3. Calculate Age Range Statistics by Department:\n",
    "- Group the data by Department.\n",
    "- Calculate the minimum, maximum, and average Age for each department."
   ]
  },
  {
   "cell_type": "code",
   "execution_count": null,
   "metadata": {},
   "outputs": [],
   "source": []
  },
  {
   "cell_type": "markdown",
   "metadata": {},
   "source": [
    "### 4. Identify Employees with Below Average Performance Rating:\n",
    "- Calculate the overall average Performance_Rating across all employees.\n",
    "- Identify employees whose Performance_Rating is below the overall average.\n",
    "- Display the Employee_ID, Performance_Rating, and Department of these employees."
   ]
  },
  {
   "cell_type": "code",
   "execution_count": null,
   "metadata": {},
   "outputs": [],
   "source": []
  },
  {
   "cell_type": "markdown",
   "metadata": {},
   "source": [
    "### 5. Calculate Age Group Distribution by Gender:\n",
    "- Create age groups for employees (e.g., 20-29, 30-39, 40-49, etc.).\n",
    "- Group the data by Gender and age groups.\n",
    "- Calculate the count of employees in each gender-age group."
   ]
  },
  {
   "cell_type": "code",
   "execution_count": null,
   "metadata": {},
   "outputs": [],
   "source": []
  }
 ],
 "metadata": {
  "kernelspec": {
   "display_name": "Python 3 (ipykernel)",
   "language": "python",
   "name": "python3"
  },
  "language_info": {
   "codemirror_mode": {
    "name": "ipython",
    "version": 3
   },
   "file_extension": ".py",
   "mimetype": "text/x-python",
   "name": "python",
   "nbconvert_exporter": "python",
   "pygments_lexer": "ipython3",
   "version": "3.11.5"
  }
 },
 "nbformat": 4,
 "nbformat_minor": 4
}
