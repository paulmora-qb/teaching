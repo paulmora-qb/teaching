{
 "cells": [
  {
   "cell_type": "markdown",
   "id": "51dbe31b",
   "metadata": {},
   "source": [
    "# NumPy Tutorial\n",
    "\n",
    "In this tutorial, we will cover various aspects of NumPy, including:\n",
    "\n",
    "1. What is a matrix and how to create one in NumPy\n",
    "2. How does reshaping work in NumPy\n",
    "3. What does the size operator do\n",
    "4. What does the -1 do when it comes to reshaping\n",
    "5. What does flatten do\n",
    "6. How does one index a NumPy matrix two-dimensionally\n",
    "7. How does one aggregate over the different dimensions\n",
    "8. How does one perform matrix multiplication\n",
    "9. How does one conduct a dot product\n",
    "\n",
    "Let's get started!\n"
   ]
  },
  {
   "cell_type": "markdown",
   "id": "375c02d2",
   "metadata": {},
   "source": [
    "## 1. What is a matrix and how to create one in NumPy\n",
    "\n",
    "A matrix is a two-dimensional array of numbers arranged in rows and columns. We can create a matrix in NumPy using the `np.array()` function.\n",
    "\n",
    "Let's create a sample matrix in NumPy."
   ]
  },
  {
   "cell_type": "code",
   "execution_count": null,
   "id": "9fd9717c",
   "metadata": {},
   "outputs": [],
   "source": []
  },
  {
   "cell_type": "markdown",
   "id": "cc9cfe64",
   "metadata": {},
   "source": [
    "## 2. How does reshaping work in NumPy\n",
    "\n",
    "Reshaping allows us to change the shape (dimensions) of an array. We can reshape an array using the `np.reshape()` function.\n",
    "\n",
    "Let's reshape our sample matrix."
   ]
  },
  {
   "cell_type": "code",
   "execution_count": null,
   "id": "d44f7c13",
   "metadata": {},
   "outputs": [],
   "source": []
  },
  {
   "cell_type": "markdown",
   "id": "1632c4ba",
   "metadata": {},
   "source": [
    "## 3. What does the size operator do\n",
    "\n",
    "The size operator returns the number of elements in an array. We can use the `size` attribute of the NumPy array.\n",
    "\n",
    "Let's find the size of our sample matrix."
   ]
  },
  {
   "cell_type": "code",
   "execution_count": null,
   "id": "c1dacbcf",
   "metadata": {},
   "outputs": [],
   "source": []
  },
  {
   "cell_type": "markdown",
   "id": "960befdd",
   "metadata": {},
   "source": [
    "## 4. What does the -1 do when it comes to reshaping\n",
    "\n",
    "When we use `-1` in reshaping, NumPy automatically calculates the dimension based on the other specified dimensions. It infers the unknown dimension.\n",
    "\n",
    "Let's reshape our sample matrix using `-1`."
   ]
  },
  {
   "cell_type": "code",
   "execution_count": null,
   "id": "54a1168a",
   "metadata": {},
   "outputs": [],
   "source": []
  },
  {
   "cell_type": "markdown",
   "id": "13cef53d",
   "metadata": {},
   "source": [
    "## 5. What does flatten do\n",
    "\n",
    "Flattening converts a multi-dimensional array into a one-dimensional array. We can use the `flatten()` method in NumPy to flatten an array.\n",
    "\n",
    "Let's flatten our sample matrix."
   ]
  },
  {
   "cell_type": "code",
   "execution_count": null,
   "id": "a8ead824",
   "metadata": {},
   "outputs": [],
   "source": []
  },
  {
   "cell_type": "markdown",
   "id": "05a1d289",
   "metadata": {},
   "source": [
    "## 6. How does one index a NumPy matrix two-dimensionally\n",
    "\n",
    "We can index a NumPy matrix using row and column indices. The syntax for two-dimensional indexing is `array[row_index, column_index]`.\n",
    "\n",
    "Let's index our sample matrix two-dimensionally."
   ]
  },
  {
   "cell_type": "code",
   "execution_count": null,
   "id": "df8abc8d",
   "metadata": {},
   "outputs": [],
   "source": []
  },
  {
   "cell_type": "markdown",
   "id": "35ae356f",
   "metadata": {},
   "source": [
    "## 7. How does one aggregate over the different dimensions\n",
    "\n",
    "We can aggregate over different dimensions (e.g., rows, columns) of a NumPy matrix using functions like `np.sum()`, `np.mean()`, `np.max()`, etc.\n",
    "\n",
    "Let's perform aggregation over rows and columns of our sample matrix."
   ]
  },
  {
   "cell_type": "code",
   "execution_count": null,
   "id": "64d714ad",
   "metadata": {},
   "outputs": [],
   "source": []
  },
  {
   "cell_type": "markdown",
   "id": "3ae82ae5",
   "metadata": {},
   "source": [
    "## 8. How does one perform matrix multiplication\n",
    "\n",
    "Matrix multiplication can be performed using the `np.dot()` function in NumPy or the `@` operator.\n",
    "\n",
    "Let's perform matrix multiplication with our sample matrix."
   ]
  },
  {
   "cell_type": "code",
   "execution_count": null,
   "id": "83d74ecc",
   "metadata": {},
   "outputs": [],
   "source": []
  },
  {
   "cell_type": "markdown",
   "id": "d0526f8c",
   "metadata": {},
   "source": [
    "## 9. How does one conduct a dot product\n",
    "\n",
    "The dot product of two arrays can be calculated using the `np.dot()` function in NumPy.\n",
    "\n",
    "Let's calculate the dot product with our sample matrix and its transpose."
   ]
  },
  {
   "cell_type": "code",
   "execution_count": null,
   "id": "52ff4c1d",
   "metadata": {},
   "outputs": [],
   "source": []
  }
 ],
 "metadata": {
  "kernelspec": {
   "display_name": "Python 3",
   "language": "python",
   "name": "python3"
  },
  "language_info": {
   "codemirror_mode": {
    "name": "ipython",
    "version": 3
   },
   "file_extension": ".py",
   "mimetype": "text/x-python",
   "name": "python",
   "nbconvert_exporter": "python",
   "pygments_lexer": "ipython3",
   "version": "3.7.10"
  }
 },
 "nbformat": 4,
 "nbformat_minor": 5
}
