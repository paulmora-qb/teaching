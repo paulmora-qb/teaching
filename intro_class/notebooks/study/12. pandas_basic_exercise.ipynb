{
 "cells": [
  {
   "cell_type": "markdown",
   "metadata": {},
   "source": [
    "# Exercise\n",
    "\n",
    "In the following we are conducting several exercises about basic pandas analysis.\n",
    "\n",
    "In this exercise, you will work with a fictional dataset containing sales data for a retail store. The dataset is provided in CSV format and consists of the following columns:\n",
    "\n",
    "1. Order_ID: Unique identifier for each order.\n",
    "2. Product: Name of the product sold.\n",
    "3. Category: Category of the product (e.g., Electronics, Clothing, Furniture).\n",
    "4. Price: Price of the product.\n",
    "5. Quantity: Quantity of the product sold.\n",
    "5. Order_Date: Date and time of the order.\n",
    "Your task is to use pandas to perform various data analysis tasks and derive insights from the dataset."
   ]
  },
  {
   "cell_type": "code",
   "execution_count": 2,
   "metadata": {},
   "outputs": [],
   "source": []
  },
  {
   "cell_type": "markdown",
   "metadata": {},
   "source": [
    "### 2. Display Basic Information:\n",
    "- Display the first 5 rows of the DataFrame.\n",
    "- Display the basic information about the DataFrame (number of rows, columns, data types)."
   ]
  },
  {
   "cell_type": "code",
   "execution_count": 3,
   "metadata": {},
   "outputs": [
    {
     "name": "stdout",
     "output_type": "stream",
     "text": [
      "First 5 rows of the DataFrame:\n",
      "   Employee_ID   Name Department              Position  Salary   Hire_Date\n",
      "0          101   John         HR               Manager    6000  2020-01-15\n",
      "1          102  Alice         IT             Developer    5000  2019-05-20\n",
      "2          103    Bob  Marketing  Marketing Specialist    4500  2020-03-10\n",
      "3          104  Emily    Finance            Accountant    5500  2018-11-25\n",
      "4          105  David         HR          HR Assistant    4000  2021-02-05\n",
      "\n",
      "Basic information about the DataFrame:\n",
      "<class 'pandas.core.frame.DataFrame'>\n",
      "RangeIndex: 5 entries, 0 to 4\n",
      "Data columns (total 6 columns):\n",
      " #   Column       Non-Null Count  Dtype \n",
      "---  ------       --------------  ----- \n",
      " 0   Employee_ID  5 non-null      int64 \n",
      " 1   Name         5 non-null      object\n",
      " 2   Department   5 non-null      object\n",
      " 3   Position     5 non-null      object\n",
      " 4   Salary       5 non-null      int64 \n",
      " 5   Hire_Date    5 non-null      object\n",
      "dtypes: int64(2), object(4)\n",
      "memory usage: 372.0+ bytes\n",
      "None\n"
     ]
    }
   ],
   "source": []
  },
  {
   "cell_type": "markdown",
   "metadata": {},
   "source": [
    "### 2.Summary Statistics:\n",
    "- Calculate and display summary statistics for numerical columns (count, mean, min, max, etc.)."
   ]
  },
  {
   "cell_type": "code",
   "execution_count": 4,
   "metadata": {},
   "outputs": [
    {
     "name": "stdout",
     "output_type": "stream",
     "text": [
      "Summary statistics for numerical columns:\n",
      "       Employee_ID       Salary\n",
      "count     5.000000     5.000000\n",
      "mean    103.000000  5000.000000\n",
      "std       1.581139   790.569415\n",
      "min     101.000000  4000.000000\n",
      "25%     102.000000  4500.000000\n",
      "50%     103.000000  5000.000000\n",
      "75%     104.000000  5500.000000\n",
      "max     105.000000  6000.000000\n"
     ]
    }
   ],
   "source": []
  },
  {
   "cell_type": "markdown",
   "metadata": {},
   "source": [
    "3. Data Manipulation:\n",
    "- Convert the Hire_Date column to datetime format.\n",
    "- Add a new column named Years_Worked that represents the number of years each employee has worked in the company (as of the current year)."
   ]
  },
  {
   "cell_type": "code",
   "execution_count": 5,
   "metadata": {},
   "outputs": [
    {
     "name": "stdout",
     "output_type": "stream",
     "text": [
      "DataFrame with 'Hire_Date' converted and 'Years_Worked' added:\n",
      "   Employee_ID   Name Department              Position  Salary  Hire_Date  \\\n",
      "0          101   John         HR               Manager    6000 2020-01-15   \n",
      "1          102  Alice         IT             Developer    5000 2019-05-20   \n",
      "2          103    Bob  Marketing  Marketing Specialist    4500 2020-03-10   \n",
      "3          104  Emily    Finance            Accountant    5500 2018-11-25   \n",
      "4          105  David         HR          HR Assistant    4000 2021-02-05   \n",
      "\n",
      "   Years_Worked  \n",
      "0             4  \n",
      "1             5  \n",
      "2             4  \n",
      "3             6  \n",
      "4             3  \n"
     ]
    }
   ],
   "source": []
  },
  {
   "cell_type": "markdown",
   "metadata": {},
   "source": [
    "### 4. Data Filtering:\n",
    "- Filter the DataFrame to include only employees who work in the 'HR' department.\n",
    "- Display the filtered DataFrame."
   ]
  },
  {
   "cell_type": "code",
   "execution_count": 6,
   "metadata": {},
   "outputs": [
    {
     "name": "stdout",
     "output_type": "stream",
     "text": [
      "Employees in the 'HR' department:\n",
      "   Employee_ID   Name Department      Position  Salary  Hire_Date  \\\n",
      "0          101   John         HR       Manager    6000 2020-01-15   \n",
      "4          105  David         HR  HR Assistant    4000 2021-02-05   \n",
      "\n",
      "   Years_Worked  \n",
      "0             4  \n",
      "4             3  \n"
     ]
    }
   ],
   "source": []
  }
 ],
 "metadata": {
  "kernelspec": {
   "display_name": "Python 3 (ipykernel)",
   "language": "python",
   "name": "python3"
  },
  "language_info": {
   "codemirror_mode": {
    "name": "ipython",
    "version": 3
   },
   "file_extension": ".py",
   "mimetype": "text/x-python",
   "name": "python",
   "nbconvert_exporter": "python",
   "pygments_lexer": "ipython3",
   "version": "3.11.5"
  }
 },
 "nbformat": 4,
 "nbformat_minor": 4
}
