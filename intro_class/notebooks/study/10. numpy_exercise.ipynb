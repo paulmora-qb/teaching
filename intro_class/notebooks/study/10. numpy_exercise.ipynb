{
 "cells": [
  {
   "cell_type": "markdown",
   "id": "a050ef1d-6610-49ee-9ef5-7b9e861d04b9",
   "metadata": {},
   "source": [
    "# Practical Exercises \n",
    "For practicing the numpy skills learned so far "
   ]
  },
  {
   "cell_type": "markdown",
   "id": "3a6449e3-4fa5-4cc3-abdc-4879445be319",
   "metadata": {},
   "source": [
    "# 1. Regression factors\n",
    "The formula for the regression coefficients is\n",
    "\n",
    "$\\beta = (X'X)^{(-1)}X'Y $\n",
    "\n",
    "But the data is a bit messed up, meaning that the format of the independent variables are saved in a flat array. That means we have a 1xN vector. I.e. the data was changed from that: \n",
    "\n",
    "<img src=\"../assets/data_before.png\" alt=\"\" width=\"500\"/>\n",
    "\n",
    "to that:\n",
    "\n",
    "<img src=\"../assets/data_after.png\" alt=\"\" width=\"700\"/>\n",
    "\n",
    "The array contains the following variables: \n",
    "\n",
    "- Sale (in Dollars) - Amount of money received by the store\n",
    "- Pack Size - Number of bottles per item\n",
    "- State Bottle Cost - Cost of producing the bottle \n",
    "- Packs Sold - Amount of bottles sold\n",
    "- Bottle Volume (in ml) - How many ml each bottle has\n",
    "\n",
    "\n",
    "\n",
    "Question: Determine the regression coefficents of the following OLS regression\n",
    "\n",
    "$Sale = \\beta_0 + \\beta_1 * (Pack Size) + \\beta_2 * (State Bottle Cost) + \\beta_3 * (Packs Sold) + \\beta_4 * (Bottle Volume) + \\epsilon $"
   ]
  },
  {
   "cell_type": "code",
   "execution_count": 6,
   "id": "875150d4",
   "metadata": {},
   "outputs": [],
   "source": [
    "import pickle\n",
    "\n",
    "def load_data(path: str):\n",
    "    with open(path,'rb') as f:\n",
    "        data = pickle.load(f)\n",
    "    return data\n",
    "\n",
    "data = load_data(\"../../data/data.pkl\")"
   ]
  },
  {
   "cell_type": "code",
   "execution_count": 8,
   "id": "5360ff3b-a456-4752-a298-5beba4875925",
   "metadata": {},
   "outputs": [
    {
     "name": "stdout",
     "output_type": "stream",
     "text": [
      "[-3.88928013e+01 -4.62402519e+00  9.48100848e+00  1.53183949e+01\n",
      " -1.88215965e-02]\n"
     ]
    }
   ],
   "source": [
    "# Numpy Way\n",
    "import numpy as np\n",
    "\n",
    "# Reshaping array from a 1x500000 format to a 5x100000 format\n",
    "reshaped_data = data.reshape(100_000,-1)\n",
    "\n",
    "# Changing the string varibles to floats\n",
    "float_data = reshaped_data.astype(float)\n",
    "\n",
    "# Separating the Sale variable from the rest\n",
    "independent = float_data[:,1:]\n",
    "Y = float_data[:,0]\n",
    "\n",
    "# Creating a column with only ones and add that to the numpy array as a column (this is done for the intercept)\n",
    "ones = np.ones(independent.shape[0])\n",
    "X = np.c_[ones, independent]\n",
    "\n",
    "# Applying regression coefficient formula\n",
    "X_prime = np.transpose(X)  \n",
    "\n",
    "inverse_part = np.linalg.inv(np.dot(X_prime, X))\n",
    "X_prime_Y = np.dot(X_prime, Y)\n",
    "beta = np.dot(inverse_part, X_prime_Y)\n",
    "\n",
    "# Printing the coefficients and the name of the regressor \n",
    "print(beta)"
   ]
  },
  {
   "cell_type": "code",
   "execution_count": 11,
   "id": "f5a3714e-2d21-462e-a263-1cd59bffc9c2",
   "metadata": {},
   "outputs": [
    {
     "ename": "ModuleNotFoundError",
     "evalue": "No module named 'statsmodels'",
     "output_type": "error",
     "traceback": [
      "\u001b[0;31m---------------------------------------------------------------------------\u001b[0m",
      "\u001b[0;31mModuleNotFoundError\u001b[0m                       Traceback (most recent call last)",
      "Cell \u001b[0;32mIn[11], line 1\u001b[0m\n\u001b[0;32m----> 1\u001b[0m \u001b[38;5;28;01mimport\u001b[39;00m \u001b[38;5;21;01mstatsmodels\u001b[39;00m\u001b[38;5;21;01m.\u001b[39;00m\u001b[38;5;21;01mapi\u001b[39;00m \u001b[38;5;28;01mas\u001b[39;00m \u001b[38;5;21;01msm\u001b[39;00m\n\u001b[1;32m      3\u001b[0m \u001b[38;5;66;03m# Reshaping array from a 1x500000 format to a 5x100000 format\u001b[39;00m\n\u001b[1;32m      4\u001b[0m reshaped_data \u001b[38;5;241m=\u001b[39m data\u001b[38;5;241m.\u001b[39mreshape(\u001b[38;5;241m100_000\u001b[39m,\u001b[38;5;241m-\u001b[39m\u001b[38;5;241m1\u001b[39m)\n",
      "\u001b[0;31mModuleNotFoundError\u001b[0m: No module named 'statsmodels'"
     ]
    }
   ],
   "source": [
    "import statsmodels.api as sm\n",
    "\n",
    "# Reshaping array from a 1x500000 format to a 5x100000 format\n",
    "reshaped_data = data.reshape(100_000,-1)\n",
    "\n",
    "# Changing the string varibles to floats\n",
    "float_data = reshaped_data.astype(np.float)\n",
    "\n",
    "# Separating the Sale variable from the rest\n",
    "independent = float_data[:,1:]\n",
    "Y = float_data[:,0]\n",
    "\n",
    "# Creating a column with only ones and add that to the numpy array as a column (this is done for the intercept)\n",
    "ones = np.ones(independent.shape[0])\n",
    "X = np.c_[ones, independent]\n",
    "\n",
    "# Defining statistical model\n",
    "model = sm.OLS(Y, X)\n",
    "\n",
    "# Fitting the results\n",
    "results = model.fit()\n",
    "\n",
    "# Printing the entire OLS summary statistics\n",
    "results.summary()"
   ]
  },
  {
   "cell_type": "code",
   "execution_count": null,
   "id": "05aa002c",
   "metadata": {},
   "outputs": [],
   "source": []
  }
 ],
 "metadata": {
  "kernelspec": {
   "display_name": "Python 3 (ipykernel)",
   "language": "python",
   "name": "python3"
  },
  "language_info": {
   "codemirror_mode": {
    "name": "ipython",
    "version": 3
   },
   "file_extension": ".py",
   "mimetype": "text/x-python",
   "name": "python",
   "nbconvert_exporter": "python",
   "pygments_lexer": "ipython3",
   "version": "3.9.6"
  }
 },
 "nbformat": 4,
 "nbformat_minor": 5
}
