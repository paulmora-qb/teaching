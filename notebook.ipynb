{
 "cells": [
  {
   "cell_type": "code",
   "execution_count": 1,
   "metadata": {},
   "outputs": [
    {
     "name": "stdout",
     "output_type": "stream",
     "text": [
      "Removing code cell inputs from intro_class/notebooks/study/13. pandas_agg.ipynb\n",
      "Removing code cell inputs from intro_class/notebooks/study/6. functions_exercise.ipynb\n",
      "Removing code cell inputs from intro_class/notebooks/study/15. pandas_concat.ipynb\n",
      "Removing code cell inputs from intro_class/notebooks/study/20. pandas_plot_exercise.ipynb\n",
      "Removing code cell inputs from intro_class/notebooks/study/19. pandas_plot.ipynb\n",
      "Removing code cell inputs from intro_class/notebooks/study/0. Introduction.ipynb\n",
      "Removing code cell inputs from intro_class/notebooks/study/4. pep8_exercise.ipynb\n",
      "Removing code cell inputs from intro_class/notebooks/study/3. pep8.ipynb\n",
      "Removing code cell inputs from intro_class/notebooks/study/11. pandas_basic.ipynb\n",
      "Removing code cell inputs from intro_class/notebooks/study/18. pandas_missing_exercise.ipynb\n",
      "Removing code cell inputs from intro_class/notebooks/study/12. pandas_basic_exercise.ipynb\n",
      "Removing code cell inputs from intro_class/notebooks/study/1. python.ipynb\n",
      "Removing code cell inputs from intro_class/notebooks/study/9. numpy.ipynb\n",
      "Removing code cell inputs from intro_class/notebooks/study/14. pandas_agg_exercise.ipynb\n",
      "Removing code cell inputs from intro_class/notebooks/study/8. classes_exercise.ipynb\n",
      "Removing code cell inputs from intro_class/notebooks/study/2. python_exercise.ipynb\n",
      "Removing code cell inputs from intro_class/notebooks/study/16. pandas_concat_exercise.ipynb\n",
      "Removing code cell inputs from intro_class/notebooks/study/17. pandas_missing.ipynb\n",
      "Removing code cell inputs from intro_class/notebooks/study/5. functions.ipynb\n",
      "Removing code cell inputs from intro_class/notebooks/study/7. classes.ipynb\n",
      "Removing code cell inputs from intro_class/notebooks/study/10. numpy_exercise.ipynb\n"
     ]
    }
   ],
   "source": [
    "import nbformat\n",
    "import os\n",
    "\n",
    "def remove_code_cell_inputs(notebook_path):\n",
    "    with open(notebook_path, 'r', encoding='utf-8') as f:\n",
    "        nb = nbformat.read(f, as_version=4)\n",
    "    \n",
    "    for cell in nb.cells:\n",
    "        if cell.cell_type == 'code':\n",
    "            cell.source = \"\"\n",
    "    \n",
    "    with open(notebook_path, 'w', encoding='utf-8') as f:\n",
    "        nbformat.write(nb, f)\n",
    "\n",
    "def find_and_process_notebooks(start_dir):\n",
    "    for root, _, files in os.walk(start_dir):\n",
    "        for file in files:\n",
    "            if file.endswith('.ipynb'):\n",
    "                notebook_path = os.path.join(root, file)\n",
    "                print(f\"Removing code cell inputs from {notebook_path}\")\n",
    "                remove_code_cell_inputs(notebook_path)\n",
    "\n",
    "# Example usage - Replace 'path/to/directory' with your notebooks' directory\n",
    "# start_directory = 'path/to/directory'\n",
    "find_and_process_notebooks(\"intro_class/notebooks/study\")"
   ]
  },
  {
   "cell_type": "code",
   "execution_count": 1,
   "metadata": {},
   "outputs": [
    {
     "data": {
      "text/plain": [
       "'/Users/Paul_Mora/Library/CloudStorage/OneDrive-McKinsey&Company/Documents/private/projects/teaching'"
      ]
     },
     "execution_count": 1,
     "metadata": {},
     "output_type": "execute_result"
    }
   ],
   "source": [
    "import os\n",
    "os.getcwd()"
   ]
  },
  {
   "cell_type": "code",
   "execution_count": null,
   "metadata": {},
   "outputs": [],
   "source": []
  }
 ],
 "metadata": {
  "kernelspec": {
   "display_name": "base",
   "language": "python",
   "name": "python3"
  },
  "language_info": {
   "codemirror_mode": {
    "name": "ipython",
    "version": 3
   },
   "file_extension": ".py",
   "mimetype": "text/x-python",
   "name": "python",
   "nbconvert_exporter": "python",
   "pygments_lexer": "ipython3",
   "version": "3.11.5"
  }
 },
 "nbformat": 4,
 "nbformat_minor": 2
}
